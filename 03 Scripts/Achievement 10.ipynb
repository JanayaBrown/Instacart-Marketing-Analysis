{
 "cells": [
  {
   "cell_type": "markdown",
   "id": "ce45b302",
   "metadata": {},
   "source": [
    "# 0. Contents"
   ]
  },
  {
   "cell_type": "markdown",
   "id": "7457b1fd",
   "metadata": {},
   "source": [
    "1. Creation of region column"
   ]
  },
  {
   "cell_type": "markdown",
   "id": "eea98b52",
   "metadata": {},
   "source": [
    "2. Creation of spending flag"
   ]
  },
  {
   "cell_type": "markdown",
   "id": "f2298517",
   "metadata": {},
   "source": [
    "3. Bar graph of spending flag"
   ]
  },
  {
   "cell_type": "markdown",
   "id": "238f33a4",
   "metadata": {},
   "source": [
    "4. Creation of acitivity flag "
   ]
  },
  {
   "cell_type": "markdown",
   "id": "ff138395",
   "metadata": {},
   "source": [
    "5. Creation of active customer dataframe"
   ]
  },
  {
   "cell_type": "markdown",
   "id": "f9b246de",
   "metadata": {},
   "source": [
    "6. Creation of customer profiles"
   ]
  },
  {
   "cell_type": "markdown",
   "id": "9fef4de0",
   "metadata": {},
   "source": [
    "7. Profile distribution bar graph"
   ]
  },
  {
   "cell_type": "markdown",
   "id": "065b4c19",
   "metadata": {},
   "source": [
    "8. Profile habits analysis"
   ]
  },
  {
   "cell_type": "markdown",
   "id": "f17ea74f",
   "metadata": {},
   "source": [
    "9. Profile by region analysis"
   ]
  },
  {
   "cell_type": "markdown",
   "id": "884966f2",
   "metadata": {},
   "source": [
    "10. Profile by department analysis"
   ]
  },
  {
   "cell_type": "markdown",
   "id": "0e922866",
   "metadata": {},
   "source": [
    "11. Profile by region and department analysis"
   ]
  },
  {
   "cell_type": "markdown",
   "id": "eb138a2d",
   "metadata": {},
   "source": [
    "# 1. Importing Libraries and Data"
   ]
  },
  {
   "cell_type": "code",
   "execution_count": 1,
   "id": "90f9f608",
   "metadata": {},
   "outputs": [],
   "source": [
    "import pandas as pd\n",
    "import numpy as np\n",
    "import os\n",
    "import matplotlib.pyplot as plt\n",
    "import seaborn as sns\n",
    "import scipy"
   ]
  },
  {
   "cell_type": "code",
   "execution_count": 2,
   "id": "cd790d87",
   "metadata": {},
   "outputs": [],
   "source": [
    "# creating the main path \n",
    "path = r'C:\\Users\\muffi\\OneDrive\\CareerFoundry\\Instacart Basket Analysis 2023'"
   ]
  },
  {
   "cell_type": "code",
   "execution_count": 3,
   "id": "50a79243",
   "metadata": {},
   "outputs": [],
   "source": [
    "# importing complete data set\n",
    "df_main = pd.read_pickle(os.path.join(path, '02 Data', 'Prepared Data', 'orders_products_all.pkl'))"
   ]
  },
  {
   "cell_type": "code",
   "execution_count": 25,
   "id": "21154d96",
   "metadata": {},
   "outputs": [],
   "source": [
    "# importing department dictionary data\n",
    "df_dict = pd.read_csv(os.path.join(path, '02 Data', 'Prepared Data', 'departments_wrangled.csv'), index_col = 0)"
   ]
  },
  {
   "cell_type": "markdown",
   "id": "be081996",
   "metadata": {},
   "source": [
    "# 2. Security Implications"
   ]
  },
  {
   "cell_type": "code",
   "execution_count": null,
   "id": "bb7759f1",
   "metadata": {},
   "outputs": [],
   "source": [
    "# checking the given information\n",
    "df_main.head()"
   ]
  },
  {
   "cell_type": "markdown",
   "id": "ae80f7d4",
   "metadata": {},
   "source": [
    "The dataset contains full names, ages, and states, which are considers PII. For the purpse of this exercise, the names have been changed to protect the privacy of the customers. Age and state by themselves arwe not enough to indentitfy an individual, and thus are safe to work with for the remainder of the project"
   ]
  },
  {
   "cell_type": "markdown",
   "id": "e97469a8",
   "metadata": {},
   "source": [
    "# 3. Spending Habits by Region"
   ]
  },
  {
   "cell_type": "markdown",
   "id": "2a114e55",
   "metadata": {},
   "source": [
    "Instacart is interested in sales by region. Create a regions using the State column. Determine if there are spending difference between the different regions."
   ]
  },
  {
   "cell_type": "markdown",
   "id": "740d1e0d",
   "metadata": {},
   "source": [
    "## 3.1. Region Column"
   ]
  },
  {
   "cell_type": "code",
   "execution_count": 4,
   "id": "62bfc94f",
   "metadata": {},
   "outputs": [],
   "source": [
    "# region 1: ME, NH, VT, MA, RI, CT, NY, PA, NJ\n",
    "# indicating region 1 states in the region col\n",
    "df_main.loc[df_main['state'].isin(['Maine', \n",
    "                                   'New Hampshire',\n",
    "                                   'Vermont',\n",
    "                                   'Massachusetts',\n",
    "                                   'Rhode Island',\n",
    "                                   'Connecticut',\n",
    "                                   'New York',\n",
    "                                   'Pennsylvania',\n",
    "                                   'New Jersey',]), 'region'] = 1"
   ]
  },
  {
   "cell_type": "code",
   "execution_count": 5,
   "id": "578af6ba",
   "metadata": {},
   "outputs": [],
   "source": [
    "# Region 2: WI, MI, IL, IN, OH, ND, SD, NE, KS, MN, IA, MS\n",
    "# indicating the regions 2 states in the region col\n",
    "df_main.loc[df_main['state'].isin(['Wisconsin',\n",
    "                                   'Michigan',\n",
    "                                   'Illinois',\n",
    "                                   'Indiana',\n",
    "                                   'Ohio',\n",
    "                                   'North Dakota',\n",
    "                                   'South Dakota',\n",
    "                                   'Nebraska',\n",
    "                                   'Kansas',\n",
    "                                   'Minnesota',\n",
    "                                   'Iowa',\n",
    "                                   'Missouri',\n",
    "                                  ]), 'region'] = 2"
   ]
  },
  {
   "cell_type": "code",
   "execution_count": 6,
   "id": "c36499ba",
   "metadata": {},
   "outputs": [],
   "source": [
    "# Region 3: DE, MD, D.C., VA, WV, NC, SC, GA, FL, KY, TN, MI, AL. OK, TX, AR, LA\n",
    "df_main.loc[df_main['state'].isin(['Delaware',\n",
    "                                  'Maryland',\n",
    "                                  'District of Columbia',\n",
    "                                  'Virginia',\n",
    "                                  'West Virginia',\n",
    "                                  'North Carolina',\n",
    "                                  'South Carolina',\n",
    "                                  'Georgia',\n",
    "                                  'Florida',\n",
    "                                  'Kentucky',\n",
    "                                  'Tennessee',\n",
    "                                  'Mississippi',\n",
    "                                  'Alabama',\n",
    "                                  'Oklahoma',\n",
    "                                  'Texas',\n",
    "                                  'Arkansas',\n",
    "                                  'Louisiana']), 'region'] = 3"
   ]
  },
  {
   "cell_type": "code",
   "execution_count": 12,
   "id": "139ba835",
   "metadata": {},
   "outputs": [],
   "source": [
    "# Region 4: ID, MT, WY, NV, UT, CO, AZ, NM, AK, WA, OR, CA, HW\n",
    "df_main.loc[df_main['state'].isin(['Idaho',\n",
    "                                  'Montana',\n",
    "                                  'Wyoming',\n",
    "                                  'Nevada',\n",
    "                                  'Utah',\n",
    "                                  'Colorado',\n",
    "                                  'Arizona',\n",
    "                                  'Alaska',\n",
    "                                  'New Mexico',\n",
    "                                  'Washington',\n",
    "                                  'Oregon',\n",
    "                                  'California',\n",
    "                                  'Hawaii'\n",
    "                                   ]), 'region'] = 4"
   ]
  },
  {
   "cell_type": "code",
   "execution_count": 13,
   "id": "1a5cf592",
   "metadata": {},
   "outputs": [
    {
     "data": {
      "text/plain": [
       "3.0    10791885\n",
       "4.0     8292913\n",
       "2.0     7597325\n",
       "1.0     5722736\n",
       "Name: region, dtype: int64"
      ]
     },
     "execution_count": 13,
     "metadata": {},
     "output_type": "execute_result"
    }
   ],
   "source": [
    "# checking region col \n",
    "df_main['region'].value_counts(dropna = False)"
   ]
  },
  {
   "cell_type": "code",
   "execution_count": 14,
   "id": "47fc0e40",
   "metadata": {},
   "outputs": [
    {
     "data": {
      "text/html": [
       "<div>\n",
       "<style scoped>\n",
       "    .dataframe tbody tr th:only-of-type {\n",
       "        vertical-align: middle;\n",
       "    }\n",
       "\n",
       "    .dataframe tbody tr th {\n",
       "        vertical-align: top;\n",
       "    }\n",
       "\n",
       "    .dataframe thead th {\n",
       "        text-align: right;\n",
       "    }\n",
       "</style>\n",
       "<table border=\"1\" class=\"dataframe\">\n",
       "  <thead>\n",
       "    <tr style=\"text-align: right;\">\n",
       "      <th></th>\n",
       "      <th>product_id</th>\n",
       "      <th>product_name</th>\n",
       "      <th>aisle_id</th>\n",
       "      <th>department_id</th>\n",
       "      <th>prices</th>\n",
       "      <th>order_id</th>\n",
       "      <th>user_id</th>\n",
       "      <th>order_number</th>\n",
       "      <th>orders_day_of_week</th>\n",
       "      <th>order_hour_of_day</th>\n",
       "      <th>...</th>\n",
       "      <th>last_name</th>\n",
       "      <th>sex</th>\n",
       "      <th>state</th>\n",
       "      <th>age</th>\n",
       "      <th>date_joined</th>\n",
       "      <th>number_of_dependents</th>\n",
       "      <th>fam_status</th>\n",
       "      <th>income</th>\n",
       "      <th>_merge</th>\n",
       "      <th>region</th>\n",
       "    </tr>\n",
       "  </thead>\n",
       "  <tbody>\n",
       "  </tbody>\n",
       "</table>\n",
       "<p>0 rows × 34 columns</p>\n",
       "</div>"
      ],
      "text/plain": [
       "Empty DataFrame\n",
       "Columns: [product_id, product_name, aisle_id, department_id, prices, order_id, user_id, order_number, orders_day_of_week, order_hour_of_day, days_since_prior_order, add_to_cart_order, reordered, price_range_loc, busiest day, busiest_days, busiest_period_of_day, max_order, loyalty_flag, mean_price, spending_flag, med_order_freq, freq_flag, first_name, last_name, sex, state, age, date_joined, number_of_dependents, fam_status, income, _merge, region]\n",
       "Index: []\n",
       "\n",
       "[0 rows x 34 columns]"
      ]
     },
     "execution_count": 14,
     "metadata": {},
     "output_type": "execute_result"
    }
   ],
   "source": [
    "# Finding NaN states \n",
    "df_main[df_main['region'].isnull()]"
   ]
  },
  {
   "cell_type": "markdown",
   "id": "ad088832",
   "metadata": {},
   "source": [
    "## 3.2. Spending Trends by Region"
   ]
  },
  {
   "cell_type": "code",
   "execution_count": 15,
   "id": "971a27a8",
   "metadata": {},
   "outputs": [
    {
     "data": {
      "text/plain": [
       "Index(['product_id', 'product_name', 'aisle_id', 'department_id', 'prices',\n",
       "       'order_id', 'user_id', 'order_number', 'orders_day_of_week',\n",
       "       'order_hour_of_day', 'days_since_prior_order', 'add_to_cart_order',\n",
       "       'reordered', 'price_range_loc', 'busiest day', 'busiest_days',\n",
       "       'busiest_period_of_day', 'max_order', 'loyalty_flag', 'mean_price',\n",
       "       'spending_flag', 'med_order_freq', 'freq_flag', 'first_name',\n",
       "       'last_name', 'sex', 'state', 'age', 'date_joined',\n",
       "       'number_of_dependents', 'fam_status', 'income', '_merge', 'region'],\n",
       "      dtype='object')"
      ]
     },
     "execution_count": 15,
     "metadata": {},
     "output_type": "execute_result"
    }
   ],
   "source": [
    "# listing the col names\n",
    "df_main.columns"
   ]
  },
  {
   "cell_type": "code",
   "execution_count": 16,
   "id": "7eb2ec4b",
   "metadata": {},
   "outputs": [],
   "source": [
    "# crossing the region and spending crosstab\n",
    "region_spending = pd.crosstab(df_main['region'], df_main['spending_flag'], dropna = False)"
   ]
  },
  {
   "cell_type": "code",
   "execution_count": null,
   "id": "cd3739de",
   "metadata": {},
   "outputs": [],
   "source": [
    "# viewing the crosstab \n",
    "region_spending"
   ]
  },
  {
   "cell_type": "code",
   "execution_count": 17,
   "id": "c8154435",
   "metadata": {},
   "outputs": [
    {
     "data": {
      "image/png": "[encoded data removed]",
      "text/plain": [
       "<Figure size 640x480 with 1 Axes>"
      ]
     },
     "metadata": {},
     "output_type": "display_data"
    }
   ],
   "source": [
    "# bar graph for the spending flag distribution \n",
    "region_bar = region_spending.plot.bar(rot = 0, color = ['navy', 'mediumslateblue', 'lightsteelblue'])"
   ]
  },
  {
   "cell_type": "markdown",
   "id": "b66b81ab",
   "metadata": {},
   "source": [
    "Region 3 has the most customers in every category. Region 2 and Region 4 have nearly identical spending habits. Region 1 has the fewest number of customers in every metric. "
   ]
  },
  {
   "cell_type": "code",
   "execution_count": 18,
   "id": "bfa4563e",
   "metadata": {},
   "outputs": [],
   "source": [
    "# exporting the bar graph\n",
    "# loyalty_bar.figure.savefig(os.path.join(path, '04 Analysis', 'Visualizations', 'loyalty_bar.png'))\n",
    "region_bar.figure.savefig(os.path.join(path, '04 Analysis', 'Visualizations', 'regional_spending_bar.png'))"
   ]
  },
  {
   "cell_type": "markdown",
   "id": "4997f1f2",
   "metadata": {},
   "source": [
    "# 4. Active Customer Dataset "
   ]
  },
  {
   "cell_type": "markdown",
   "id": "79d60280",
   "metadata": {},
   "source": [
    "The CFO wants a subset of the data that only include active customers (more than 5 orders). The exported dataset should not have any low-activity customers"
   ]
  },
  {
   "cell_type": "code",
   "execution_count": 19,
   "id": "0d128718",
   "metadata": {},
   "outputs": [],
   "source": [
    "# creating the low_activity flag\n",
    "df_main.loc[df_main['max_order'] < 5, 'activity_flag'] = 'low activity'"
   ]
  },
  {
   "cell_type": "code",
   "execution_count": 20,
   "id": "a789781a",
   "metadata": {},
   "outputs": [],
   "source": [
    "# creating the good_activity \n",
    "df_main.loc[df_main['max_order'] >= 5, 'activity_flag'] = 'good activity'"
   ]
  },
  {
   "cell_type": "code",
   "execution_count": 21,
   "id": "52fb1a32",
   "metadata": {},
   "outputs": [
    {
     "data": {
      "text/plain": [
       "good activity    30964564\n",
       "low activity      1440295\n",
       "Name: activity_flag, dtype: int64"
      ]
     },
     "execution_count": 21,
     "metadata": {},
     "output_type": "execute_result"
    }
   ],
   "source": [
    "# checking the activity flag\n",
    "df_main['activity_flag'].value_counts(dropna = False)"
   ]
  },
  {
   "cell_type": "code",
   "execution_count": 22,
   "id": "1eb36d23",
   "metadata": {},
   "outputs": [],
   "source": [
    "# creating the subset dataframe without low-acitivity customers\n",
    "df_active_users = df_main.loc[df_main['activity_flag'] == 'good activity']"
   ]
  },
  {
   "cell_type": "code",
   "execution_count": 23,
   "id": "54527aa3",
   "metadata": {},
   "outputs": [
    {
     "data": {
      "text/html": [
       "<div>\n",
       "<style scoped>\n",
       "    .dataframe tbody tr th:only-of-type {\n",
       "        vertical-align: middle;\n",
       "    }\n",
       "\n",
       "    .dataframe tbody tr th {\n",
       "        vertical-align: top;\n",
       "    }\n",
       "\n",
       "    .dataframe thead th {\n",
       "        text-align: right;\n",
       "    }\n",
       "</style>\n",
       "<table border=\"1\" class=\"dataframe\">\n",
       "  <thead>\n",
       "    <tr style=\"text-align: right;\">\n",
       "      <th></th>\n",
       "      <th>product_id</th>\n",
       "      <th>product_name</th>\n",
       "      <th>aisle_id</th>\n",
       "      <th>department_id</th>\n",
       "      <th>prices</th>\n",
       "      <th>order_id</th>\n",
       "      <th>user_id</th>\n",
       "      <th>order_number</th>\n",
       "      <th>orders_day_of_week</th>\n",
       "      <th>order_hour_of_day</th>\n",
       "      <th>...</th>\n",
       "      <th>sex</th>\n",
       "      <th>state</th>\n",
       "      <th>age</th>\n",
       "      <th>date_joined</th>\n",
       "      <th>number_of_dependents</th>\n",
       "      <th>fam_status</th>\n",
       "      <th>income</th>\n",
       "      <th>_merge</th>\n",
       "      <th>region</th>\n",
       "      <th>activity_flag</th>\n",
       "    </tr>\n",
       "  </thead>\n",
       "  <tbody>\n",
       "    <tr>\n",
       "      <th>0</th>\n",
       "      <td>1</td>\n",
       "      <td>Chocolate Sandwich Cookies</td>\n",
       "      <td>61</td>\n",
       "      <td>19</td>\n",
       "      <td>5.8</td>\n",
       "      <td>3139998</td>\n",
       "      <td>138</td>\n",
       "      <td>28</td>\n",
       "      <td>6</td>\n",
       "      <td>11</td>\n",
       "      <td>...</td>\n",
       "      <td>Male</td>\n",
       "      <td>Minnesota</td>\n",
       "      <td>81</td>\n",
       "      <td>8/1/2019</td>\n",
       "      <td>1</td>\n",
       "      <td>married</td>\n",
       "      <td>49620</td>\n",
       "      <td>both</td>\n",
       "      <td>2.0</td>\n",
       "      <td>good activity</td>\n",
       "    </tr>\n",
       "    <tr>\n",
       "      <th>1</th>\n",
       "      <td>1</td>\n",
       "      <td>Chocolate Sandwich Cookies</td>\n",
       "      <td>61</td>\n",
       "      <td>19</td>\n",
       "      <td>5.8</td>\n",
       "      <td>1977647</td>\n",
       "      <td>138</td>\n",
       "      <td>30</td>\n",
       "      <td>6</td>\n",
       "      <td>17</td>\n",
       "      <td>...</td>\n",
       "      <td>Male</td>\n",
       "      <td>Minnesota</td>\n",
       "      <td>81</td>\n",
       "      <td>8/1/2019</td>\n",
       "      <td>1</td>\n",
       "      <td>married</td>\n",
       "      <td>49620</td>\n",
       "      <td>both</td>\n",
       "      <td>2.0</td>\n",
       "      <td>good activity</td>\n",
       "    </tr>\n",
       "    <tr>\n",
       "      <th>2</th>\n",
       "      <td>907</td>\n",
       "      <td>Premium Sliced Bacon</td>\n",
       "      <td>106</td>\n",
       "      <td>12</td>\n",
       "      <td>20.0</td>\n",
       "      <td>3160996</td>\n",
       "      <td>138</td>\n",
       "      <td>1</td>\n",
       "      <td>5</td>\n",
       "      <td>13</td>\n",
       "      <td>...</td>\n",
       "      <td>Male</td>\n",
       "      <td>Minnesota</td>\n",
       "      <td>81</td>\n",
       "      <td>8/1/2019</td>\n",
       "      <td>1</td>\n",
       "      <td>married</td>\n",
       "      <td>49620</td>\n",
       "      <td>both</td>\n",
       "      <td>2.0</td>\n",
       "      <td>good activity</td>\n",
       "    </tr>\n",
       "    <tr>\n",
       "      <th>3</th>\n",
       "      <td>907</td>\n",
       "      <td>Premium Sliced Bacon</td>\n",
       "      <td>106</td>\n",
       "      <td>12</td>\n",
       "      <td>20.0</td>\n",
       "      <td>2254091</td>\n",
       "      <td>138</td>\n",
       "      <td>10</td>\n",
       "      <td>5</td>\n",
       "      <td>14</td>\n",
       "      <td>...</td>\n",
       "      <td>Male</td>\n",
       "      <td>Minnesota</td>\n",
       "      <td>81</td>\n",
       "      <td>8/1/2019</td>\n",
       "      <td>1</td>\n",
       "      <td>married</td>\n",
       "      <td>49620</td>\n",
       "      <td>both</td>\n",
       "      <td>2.0</td>\n",
       "      <td>good activity</td>\n",
       "    </tr>\n",
       "    <tr>\n",
       "      <th>4</th>\n",
       "      <td>1000</td>\n",
       "      <td>Apricots</td>\n",
       "      <td>18</td>\n",
       "      <td>10</td>\n",
       "      <td>12.9</td>\n",
       "      <td>505689</td>\n",
       "      <td>138</td>\n",
       "      <td>9</td>\n",
       "      <td>6</td>\n",
       "      <td>12</td>\n",
       "      <td>...</td>\n",
       "      <td>Male</td>\n",
       "      <td>Minnesota</td>\n",
       "      <td>81</td>\n",
       "      <td>8/1/2019</td>\n",
       "      <td>1</td>\n",
       "      <td>married</td>\n",
       "      <td>49620</td>\n",
       "      <td>both</td>\n",
       "      <td>2.0</td>\n",
       "      <td>good activity</td>\n",
       "    </tr>\n",
       "  </tbody>\n",
       "</table>\n",
       "<p>5 rows × 35 columns</p>\n",
       "</div>"
      ],
      "text/plain": [
       "   product_id                product_name  aisle_id  department_id  prices  \\\n",
       "0           1  Chocolate Sandwich Cookies        61             19     5.8   \n",
       "1           1  Chocolate Sandwich Cookies        61             19     5.8   \n",
       "2         907        Premium Sliced Bacon       106             12    20.0   \n",
       "3         907        Premium Sliced Bacon       106             12    20.0   \n",
       "4        1000                    Apricots        18             10    12.9   \n",
       "\n",
       "   order_id  user_id  order_number  orders_day_of_week  order_hour_of_day  \\\n",
       "0   3139998      138            28                   6                 11   \n",
       "1   1977647      138            30                   6                 17   \n",
       "2   3160996      138             1                   5                 13   \n",
       "3   2254091      138            10                   5                 14   \n",
       "4    505689      138             9                   6                 12   \n",
       "\n",
       "   ...   sex      state  age date_joined number_of_dependents fam_status  \\\n",
       "0  ...  Male  Minnesota   81    8/1/2019                    1    married   \n",
       "1  ...  Male  Minnesota   81    8/1/2019                    1    married   \n",
       "2  ...  Male  Minnesota   81    8/1/2019                    1    married   \n",
       "3  ...  Male  Minnesota   81    8/1/2019                    1    married   \n",
       "4  ...  Male  Minnesota   81    8/1/2019                    1    married   \n",
       "\n",
       "  income  _merge region  activity_flag  \n",
       "0  49620    both    2.0  good activity  \n",
       "1  49620    both    2.0  good activity  \n",
       "2  49620    both    2.0  good activity  \n",
       "3  49620    both    2.0  good activity  \n",
       "4  49620    both    2.0  good activity  \n",
       "\n",
       "[5 rows x 35 columns]"
      ]
     },
     "execution_count": 23,
     "metadata": {},
     "output_type": "execute_result"
    }
   ],
   "source": [
    "# checking the active users table\n",
    "df_active_users.head()"
   ]
  },
  {
   "cell_type": "code",
   "execution_count": 24,
   "id": "d6f98d6a",
   "metadata": {},
   "outputs": [],
   "source": [
    "# exporting the sample\n",
    "df_active_users.to_pickle(os.path.join(path, '02 Data', 'Prepared Data', 'active_users_sample.pkl'))"
   ]
  },
  {
   "cell_type": "markdown",
   "id": "8cb08fe2",
   "metadata": {},
   "source": [
    "# 5. Customer Profiling "
   ]
  },
  {
   "cell_type": "markdown",
   "id": "afa3ea97",
   "metadata": {},
   "source": [
    "The marketing team wants customer profiles based on age, income, certain goods in the “department_id” column, and number of dependents. Create the different profiles under a profile flag"
   ]
  },
  {
   "cell_type": "code",
   "execution_count": null,
   "id": "2cb83e2d",
   "metadata": {},
   "outputs": [],
   "source": [
    "# descriptive statistics on the age, income, and number of dependents parameters\n",
    "df_main[['age', 'income', 'number_of_dependents' ]].describe()"
   ]
  },
  {
   "cell_type": "code",
   "execution_count": null,
   "id": "a4f19add",
   "metadata": {},
   "outputs": [],
   "source": [
    "# checking the departments\n",
    "df_dict"
   ]
  },
  {
   "cell_type": "markdown",
   "id": "39473020",
   "metadata": {},
   "source": [
    "Purchases from department 18 with >= 1 dependent would indicate new parent "
   ]
  },
  {
   "cell_type": "markdown",
   "id": "4d369f8f",
   "metadata": {},
   "source": [
    "18 <= age < 30 is young adult"
   ]
  },
  {
   "cell_type": "markdown",
   "id": "3ac6e99e",
   "metadata": {},
   "source": [
    "30 <= age < 50 adult"
   ]
  },
  {
   "cell_type": "markdown",
   "id": "835a2f96",
   "metadata": {},
   "source": [
    "50 <= old adult"
   ]
  },
  {
   "cell_type": "markdown",
   "id": "129a2506",
   "metadata": {},
   "source": [
    "No dependents means single adult"
   ]
  },
  {
   "cell_type": "markdown",
   "id": "622e416f",
   "metadata": {},
   "source": [
    "Income less than 50k with more than 1 dependent means single parent"
   ]
  },
  {
   "cell_type": "code",
   "execution_count": 26,
   "id": "9b9772ae",
   "metadata": {},
   "outputs": [],
   "source": [
    "# new parent profile (including parents that have a new babies but multiple children)\n",
    "df_main.loc[(df_main['number_of_dependents'] >= 1) &  (df_main['department_id'] == 18), 'profile'] = 'New Parent'"
   ]
  },
  {
   "cell_type": "code",
   "execution_count": 27,
   "id": "dc5bc04e",
   "metadata": {},
   "outputs": [],
   "source": [
    "# single adult profile\n",
    "df_main.loc[(df_main['number_of_dependents'] == 0) &  (df_main['age'] < 65), 'profile'] = 'Single Adult'"
   ]
  },
  {
   "cell_type": "code",
   "execution_count": 28,
   "id": "95ac2175",
   "metadata": {},
   "outputs": [],
   "source": [
    "# single parent profile\n",
    "df_main.loc[(df_main['number_of_dependents'] >= 1) & (df_main['income'] < 50000) &  (df_main['department_id'] != 18), 'profile'] = 'Single Parent'"
   ]
  },
  {
   "cell_type": "code",
   "execution_count": 29,
   "id": "d3a5a7ec",
   "metadata": {},
   "outputs": [],
   "source": [
    "# partnered parent profile\n",
    "df_main.loc[(df_main['number_of_dependents'] >= 1) & (df_main['income'] >= 50000) &  (df_main['department_id'] != 18), 'profile'] = 'Partnered Parent'"
   ]
  },
  {
   "cell_type": "code",
   "execution_count": 30,
   "id": "4c35f522",
   "metadata": {},
   "outputs": [],
   "source": [
    "# retired adult profile\n",
    "df_main.loc[(df_main['number_of_dependents'] == 0) &  (df_main['age'] >= 65), 'profile'] = 'Retired Adult'"
   ]
  },
  {
   "cell_type": "code",
   "execution_count": 31,
   "id": "da603222",
   "metadata": {},
   "outputs": [
    {
     "data": {
      "text/plain": [
       "Partnered Parent    21323133\n",
       "Single Adult         5977419\n",
       "Single Parent        2666915\n",
       "Retired Adult        2120084\n",
       "New Parent            317308\n",
       "Name: profile, dtype: int64"
      ]
     },
     "execution_count": 31,
     "metadata": {},
     "output_type": "execute_result"
    }
   ],
   "source": [
    "# checking for profiles\n",
    "df_main['profile'].value_counts(dropna = False)"
   ]
  },
  {
   "cell_type": "markdown",
   "id": "2df33e26",
   "metadata": {},
   "source": [
    "# 6. Profile Distribution"
   ]
  },
  {
   "cell_type": "code",
   "execution_count": 32,
   "id": "25fa93cc",
   "metadata": {},
   "outputs": [
    {
     "data": {
      "image/png": "[encoded data removed]",
      "text/plain": [
       "<Figure size 640x480 with 1 Axes>"
      ]
     },
     "metadata": {},
     "output_type": "display_data"
    }
   ],
   "source": [
    "# profie distibution \n",
    "profile_dist_bar = df_main['profile'].value_counts().plot.bar(color = ['navy', 'lavender', 'lavender', 'lavender', 'lavender'])"
   ]
  },
  {
   "cell_type": "code",
   "execution_count": 33,
   "id": "b83cb1fa",
   "metadata": {},
   "outputs": [],
   "source": [
    "# exporting the visualiation\n",
    "profile_dist_bar.figure.savefig(os.path.join(path, '04 Analysis', 'Visualizations', 'profile_distibution_bar.png'))"
   ]
  },
  {
   "cell_type": "markdown",
   "id": "0e1e49ee",
   "metadata": {},
   "source": [
    "Most customers are partnered parents followed by single adults, single parents, retired adults, and new parents"
   ]
  },
  {
   "cell_type": "markdown",
   "id": "f4cd8262",
   "metadata": {},
   "source": [
    "# 7. Profile Aggregation"
   ]
  },
  {
   "cell_type": "markdown",
   "id": "83083b23",
   "metadata": {},
   "source": [
    "Aggregate the max, mean, and min variables of the customer profiles for usage frequency and expenditure"
   ]
  },
  {
   "cell_type": "code",
   "execution_count": 34,
   "id": "89320929",
   "metadata": {},
   "outputs": [
    {
     "data": {
      "text/html": [
       "<div>\n",
       "<style scoped>\n",
       "    .dataframe tbody tr th:only-of-type {\n",
       "        vertical-align: middle;\n",
       "    }\n",
       "\n",
       "    .dataframe tbody tr th {\n",
       "        vertical-align: top;\n",
       "    }\n",
       "\n",
       "    .dataframe thead tr th {\n",
       "        text-align: left;\n",
       "    }\n",
       "\n",
       "    .dataframe thead tr:last-of-type th {\n",
       "        text-align: right;\n",
       "    }\n",
       "</style>\n",
       "<table border=\"1\" class=\"dataframe\">\n",
       "  <thead>\n",
       "    <tr>\n",
       "      <th></th>\n",
       "      <th colspan=\"3\" halign=\"left\">prices</th>\n",
       "    </tr>\n",
       "    <tr>\n",
       "      <th></th>\n",
       "      <th>mean</th>\n",
       "      <th>max</th>\n",
       "      <th>min</th>\n",
       "    </tr>\n",
       "    <tr>\n",
       "      <th>profile</th>\n",
       "      <th></th>\n",
       "      <th></th>\n",
       "      <th></th>\n",
       "    </tr>\n",
       "  </thead>\n",
       "  <tbody>\n",
       "    <tr>\n",
       "      <th>New Parent</th>\n",
       "      <td>7.650679</td>\n",
       "      <td>15.0</td>\n",
       "      <td>1.0</td>\n",
       "    </tr>\n",
       "    <tr>\n",
       "      <th>Partnered Parent</th>\n",
       "      <td>7.931017</td>\n",
       "      <td>25.0</td>\n",
       "      <td>1.0</td>\n",
       "    </tr>\n",
       "    <tr>\n",
       "      <th>Retired Adult</th>\n",
       "      <td>7.801944</td>\n",
       "      <td>25.0</td>\n",
       "      <td>1.0</td>\n",
       "    </tr>\n",
       "    <tr>\n",
       "      <th>Single Adult</th>\n",
       "      <td>7.785729</td>\n",
       "      <td>25.0</td>\n",
       "      <td>1.0</td>\n",
       "    </tr>\n",
       "    <tr>\n",
       "      <th>Single Parent</th>\n",
       "      <td>6.691449</td>\n",
       "      <td>25.0</td>\n",
       "      <td>1.0</td>\n",
       "    </tr>\n",
       "  </tbody>\n",
       "</table>\n",
       "</div>"
      ],
      "text/plain": [
       "                    prices           \n",
       "                      mean   max  min\n",
       "profile                              \n",
       "New Parent        7.650679  15.0  1.0\n",
       "Partnered Parent  7.931017  25.0  1.0\n",
       "Retired Adult     7.801944  25.0  1.0\n",
       "Single Adult      7.785729  25.0  1.0\n",
       "Single Parent     6.691449  25.0  1.0"
      ]
     },
     "execution_count": 34,
     "metadata": {},
     "output_type": "execute_result"
    }
   ],
   "source": [
    "# grouping profiles by mean, max, and min expenditure \n",
    "df_main.groupby('profile').agg({'prices' : ['mean', 'max', 'min']})"
   ]
  },
  {
   "cell_type": "code",
   "execution_count": 35,
   "id": "969aead4",
   "metadata": {},
   "outputs": [
    {
     "data": {
      "text/html": [
       "<div>\n",
       "<style scoped>\n",
       "    .dataframe tbody tr th:only-of-type {\n",
       "        vertical-align: middle;\n",
       "    }\n",
       "\n",
       "    .dataframe tbody tr th {\n",
       "        vertical-align: top;\n",
       "    }\n",
       "\n",
       "    .dataframe thead tr th {\n",
       "        text-align: left;\n",
       "    }\n",
       "\n",
       "    .dataframe thead tr:last-of-type th {\n",
       "        text-align: right;\n",
       "    }\n",
       "</style>\n",
       "<table border=\"1\" class=\"dataframe\">\n",
       "  <thead>\n",
       "    <tr>\n",
       "      <th></th>\n",
       "      <th colspan=\"3\" halign=\"left\">days_since_prior_order</th>\n",
       "    </tr>\n",
       "    <tr>\n",
       "      <th></th>\n",
       "      <th>mean</th>\n",
       "      <th>max</th>\n",
       "      <th>min</th>\n",
       "    </tr>\n",
       "    <tr>\n",
       "      <th>profile</th>\n",
       "      <th></th>\n",
       "      <th></th>\n",
       "      <th></th>\n",
       "    </tr>\n",
       "  </thead>\n",
       "  <tbody>\n",
       "    <tr>\n",
       "      <th>New Parent</th>\n",
       "      <td>9.437370</td>\n",
       "      <td>30.0</td>\n",
       "      <td>0.0</td>\n",
       "    </tr>\n",
       "    <tr>\n",
       "      <th>Partnered Parent</th>\n",
       "      <td>10.367530</td>\n",
       "      <td>30.0</td>\n",
       "      <td>0.0</td>\n",
       "    </tr>\n",
       "    <tr>\n",
       "      <th>Retired Adult</th>\n",
       "      <td>10.353063</td>\n",
       "      <td>30.0</td>\n",
       "      <td>0.0</td>\n",
       "    </tr>\n",
       "    <tr>\n",
       "      <th>Single Adult</th>\n",
       "      <td>10.378378</td>\n",
       "      <td>30.0</td>\n",
       "      <td>0.0</td>\n",
       "    </tr>\n",
       "    <tr>\n",
       "      <th>Single Parent</th>\n",
       "      <td>10.770852</td>\n",
       "      <td>30.0</td>\n",
       "      <td>0.0</td>\n",
       "    </tr>\n",
       "  </tbody>\n",
       "</table>\n",
       "</div>"
      ],
      "text/plain": [
       "                 days_since_prior_order           \n",
       "                                   mean   max  min\n",
       "profile                                           \n",
       "New Parent                     9.437370  30.0  0.0\n",
       "Partnered Parent              10.367530  30.0  0.0\n",
       "Retired Adult                 10.353063  30.0  0.0\n",
       "Single Adult                  10.378378  30.0  0.0\n",
       "Single Parent                 10.770852  30.0  0.0"
      ]
     },
     "execution_count": 35,
     "metadata": {},
     "output_type": "execute_result"
    }
   ],
   "source": [
    "# grouping profiles by mean, max, and min usage frequency (with days_since_prior_order)\n",
    "df_main.groupby('profile').agg({'days_since_prior_order' : ['mean', 'max', 'min']})"
   ]
  },
  {
   "cell_type": "markdown",
   "id": "4746b29b",
   "metadata": {},
   "source": [
    "Partnered parents spend the most on average, but single parents use the service the most "
   ]
  },
  {
   "cell_type": "markdown",
   "id": "ffe18228",
   "metadata": {},
   "source": [
    "# 8. Customer Profiles by Region and Department"
   ]
  },
  {
   "cell_type": "markdown",
   "id": "0c28bbda",
   "metadata": {},
   "source": [
    "Compare the profiles with regions and departments. Are there any links? "
   ]
  },
  {
   "cell_type": "markdown",
   "id": "be288db2",
   "metadata": {},
   "source": [
    "## 8.1. Profiles by Region"
   ]
  },
  {
   "cell_type": "code",
   "execution_count": 36,
   "id": "b593976a",
   "metadata": {},
   "outputs": [],
   "source": [
    "# crosstab comparing profiles and region\n",
    "regional_profiles = pd.crosstab(df_main['profile'], df_main['region'])"
   ]
  },
  {
   "cell_type": "code",
   "execution_count": 37,
   "id": "4e0d6a87",
   "metadata": {},
   "outputs": [
    {
     "data": {
      "text/html": [
       "<div>\n",
       "<style scoped>\n",
       "    .dataframe tbody tr th:only-of-type {\n",
       "        vertical-align: middle;\n",
       "    }\n",
       "\n",
       "    .dataframe tbody tr th {\n",
       "        vertical-align: top;\n",
       "    }\n",
       "\n",
       "    .dataframe thead th {\n",
       "        text-align: right;\n",
       "    }\n",
       "</style>\n",
       "<table border=\"1\" class=\"dataframe\">\n",
       "  <thead>\n",
       "    <tr style=\"text-align: right;\">\n",
       "      <th>region</th>\n",
       "      <th>1.0</th>\n",
       "      <th>2.0</th>\n",
       "      <th>3.0</th>\n",
       "      <th>4.0</th>\n",
       "    </tr>\n",
       "    <tr>\n",
       "      <th>profile</th>\n",
       "      <th></th>\n",
       "      <th></th>\n",
       "      <th></th>\n",
       "      <th></th>\n",
       "    </tr>\n",
       "  </thead>\n",
       "  <tbody>\n",
       "    <tr>\n",
       "      <th>New Parent</th>\n",
       "      <td>56621</td>\n",
       "      <td>73594</td>\n",
       "      <td>107309</td>\n",
       "      <td>79784</td>\n",
       "    </tr>\n",
       "    <tr>\n",
       "      <th>Partnered Parent</th>\n",
       "      <td>3788490</td>\n",
       "      <td>4991867</td>\n",
       "      <td>7080228</td>\n",
       "      <td>5462548</td>\n",
       "    </tr>\n",
       "    <tr>\n",
       "      <th>Retired Adult</th>\n",
       "      <td>395847</td>\n",
       "      <td>492762</td>\n",
       "      <td>691055</td>\n",
       "      <td>540420</td>\n",
       "    </tr>\n",
       "    <tr>\n",
       "      <th>Single Adult</th>\n",
       "      <td>1022454</td>\n",
       "      <td>1412438</td>\n",
       "      <td>2010604</td>\n",
       "      <td>1531923</td>\n",
       "    </tr>\n",
       "    <tr>\n",
       "      <th>Single Parent</th>\n",
       "      <td>459324</td>\n",
       "      <td>626664</td>\n",
       "      <td>902689</td>\n",
       "      <td>678238</td>\n",
       "    </tr>\n",
       "  </tbody>\n",
       "</table>\n",
       "</div>"
      ],
      "text/plain": [
       "region                1.0      2.0      3.0      4.0\n",
       "profile                                             \n",
       "New Parent          56621    73594   107309    79784\n",
       "Partnered Parent  3788490  4991867  7080228  5462548\n",
       "Retired Adult      395847   492762   691055   540420\n",
       "Single Adult      1022454  1412438  2010604  1531923\n",
       "Single Parent      459324   626664   902689   678238"
      ]
     },
     "execution_count": 37,
     "metadata": {},
     "output_type": "execute_result"
    }
   ],
   "source": [
    "# checking the regional profiles crosstab\n",
    "regional_profiles"
   ]
  },
  {
   "cell_type": "code",
   "execution_count": 38,
   "id": "8ea83307",
   "metadata": {},
   "outputs": [
    {
     "data": {
      "image/png": "[encoded data removed]",
      "text/plain": [
       "<Figure size 640x480 with 1 Axes>"
      ]
     },
     "metadata": {},
     "output_type": "display_data"
    }
   ],
   "source": [
    "regional_profiles_bar = regional_profiles.plot.bar( color = ['navy', 'mediumslateblue', 'lightsteelblue', 'blue'])"
   ]
  },
  {
   "cell_type": "code",
   "execution_count": 39,
   "id": "67f8be15",
   "metadata": {},
   "outputs": [],
   "source": [
    "# creating a crosstab of the profiles by region\n",
    "prof_by_reg = pd.crosstab(df_main['region'], df_main['profile'])"
   ]
  },
  {
   "cell_type": "code",
   "execution_count": 40,
   "id": "a8465a15",
   "metadata": {},
   "outputs": [
    {
     "data": {
      "text/html": [
       "<div>\n",
       "<style scoped>\n",
       "    .dataframe tbody tr th:only-of-type {\n",
       "        vertical-align: middle;\n",
       "    }\n",
       "\n",
       "    .dataframe tbody tr th {\n",
       "        vertical-align: top;\n",
       "    }\n",
       "\n",
       "    .dataframe thead th {\n",
       "        text-align: right;\n",
       "    }\n",
       "</style>\n",
       "<table border=\"1\" class=\"dataframe\">\n",
       "  <thead>\n",
       "    <tr style=\"text-align: right;\">\n",
       "      <th>profile</th>\n",
       "      <th>New Parent</th>\n",
       "      <th>Partnered Parent</th>\n",
       "      <th>Retired Adult</th>\n",
       "      <th>Single Adult</th>\n",
       "      <th>Single Parent</th>\n",
       "    </tr>\n",
       "    <tr>\n",
       "      <th>region</th>\n",
       "      <th></th>\n",
       "      <th></th>\n",
       "      <th></th>\n",
       "      <th></th>\n",
       "      <th></th>\n",
       "    </tr>\n",
       "  </thead>\n",
       "  <tbody>\n",
       "    <tr>\n",
       "      <th>1.0</th>\n",
       "      <td>56621</td>\n",
       "      <td>3788490</td>\n",
       "      <td>395847</td>\n",
       "      <td>1022454</td>\n",
       "      <td>459324</td>\n",
       "    </tr>\n",
       "    <tr>\n",
       "      <th>2.0</th>\n",
       "      <td>73594</td>\n",
       "      <td>4991867</td>\n",
       "      <td>492762</td>\n",
       "      <td>1412438</td>\n",
       "      <td>626664</td>\n",
       "    </tr>\n",
       "    <tr>\n",
       "      <th>3.0</th>\n",
       "      <td>107309</td>\n",
       "      <td>7080228</td>\n",
       "      <td>691055</td>\n",
       "      <td>2010604</td>\n",
       "      <td>902689</td>\n",
       "    </tr>\n",
       "    <tr>\n",
       "      <th>4.0</th>\n",
       "      <td>79784</td>\n",
       "      <td>5462548</td>\n",
       "      <td>540420</td>\n",
       "      <td>1531923</td>\n",
       "      <td>678238</td>\n",
       "    </tr>\n",
       "  </tbody>\n",
       "</table>\n",
       "</div>"
      ],
      "text/plain": [
       "profile  New Parent  Partnered Parent  Retired Adult  Single Adult  \\\n",
       "region                                                               \n",
       "1.0           56621           3788490         395847       1022454   \n",
       "2.0           73594           4991867         492762       1412438   \n",
       "3.0          107309           7080228         691055       2010604   \n",
       "4.0           79784           5462548         540420       1531923   \n",
       "\n",
       "profile  Single Parent  \n",
       "region                  \n",
       "1.0             459324  \n",
       "2.0             626664  \n",
       "3.0             902689  \n",
       "4.0             678238  "
      ]
     },
     "execution_count": 40,
     "metadata": {},
     "output_type": "execute_result"
    }
   ],
   "source": [
    "# checking the profile be region crossbar\n",
    "prof_by_reg"
   ]
  },
  {
   "cell_type": "code",
   "execution_count": 41,
   "id": "c92fb044",
   "metadata": {},
   "outputs": [
    {
     "data": {
      "text/plain": [
       "<matplotlib.legend.Legend at 0x25210004040>"
      ]
     },
     "execution_count": 41,
     "metadata": {},
     "output_type": "execute_result"
    },
    {
     "data": {
      "image/png": "[encoded data removed]",
      "text/plain": [
       "<Figure size 640x480 with 1 Axes>"
      ]
     },
     "metadata": {},
     "output_type": "display_data"
    }
   ],
   "source": [
    "# creating a bar chart showing profiles by region\n",
    "prof_by_reg_bar = prof_by_reg.plot.bar(rot = 0, color = ['navy', 'mediumslateblue', 'lightsteelblue', 'blue', 'royalblue'])\n",
    "plt.legend(loc = 'best')"
   ]
  },
  {
   "cell_type": "code",
   "execution_count": 42,
   "id": "1606535a",
   "metadata": {},
   "outputs": [],
   "source": [
    "# exporting the profile by region bar graph\n",
    "prof_by_reg_bar.figure.savefig(os.path.join(path, '04 Analysis', 'Visualizations', 'profiles_by_region_bar.png'))"
   ]
  },
  {
   "cell_type": "markdown",
   "id": "384cc04a",
   "metadata": {},
   "source": [
    "Partnered parents spend have the most purchases in all regions followed by single adults, single parents, retired adults, and nwe parents, respectively. New parents are nearly equally represented in every region. Region 3 has the most purchases"
   ]
  },
  {
   "cell_type": "markdown",
   "id": "8ce11e2e",
   "metadata": {},
   "source": [
    "## 8.2. Profiles by department"
   ]
  },
  {
   "cell_type": "code",
   "execution_count": 43,
   "id": "18be710f",
   "metadata": {},
   "outputs": [],
   "source": [
    "# creating crosstab of profiles by departments\n",
    "prof_by_dep = pd.crosstab(df_main['department_id'], df_main['profile'])"
   ]
  },
  {
   "cell_type": "code",
   "execution_count": 44,
   "id": "8f27fd60",
   "metadata": {},
   "outputs": [
    {
     "data": {
      "text/html": [
       "<div>\n",
       "<style scoped>\n",
       "    .dataframe tbody tr th:only-of-type {\n",
       "        vertical-align: middle;\n",
       "    }\n",
       "\n",
       "    .dataframe tbody tr th {\n",
       "        vertical-align: top;\n",
       "    }\n",
       "\n",
       "    .dataframe thead th {\n",
       "        text-align: right;\n",
       "    }\n",
       "</style>\n",
       "<table border=\"1\" class=\"dataframe\">\n",
       "  <thead>\n",
       "    <tr style=\"text-align: right;\">\n",
       "      <th>profile</th>\n",
       "      <th>New Parent</th>\n",
       "      <th>Partnered Parent</th>\n",
       "      <th>Retired Adult</th>\n",
       "      <th>Single Adult</th>\n",
       "      <th>Single Parent</th>\n",
       "    </tr>\n",
       "    <tr>\n",
       "      <th>department_id</th>\n",
       "      <th></th>\n",
       "      <th></th>\n",
       "      <th></th>\n",
       "      <th></th>\n",
       "      <th></th>\n",
       "    </tr>\n",
       "  </thead>\n",
       "  <tbody>\n",
       "    <tr>\n",
       "      <th>1</th>\n",
       "      <td>0</td>\n",
       "      <td>1502578</td>\n",
       "      <td>148333</td>\n",
       "      <td>408827</td>\n",
       "      <td>175005</td>\n",
       "    </tr>\n",
       "    <tr>\n",
       "      <th>2</th>\n",
       "      <td>0</td>\n",
       "      <td>24102</td>\n",
       "      <td>2291</td>\n",
       "      <td>6884</td>\n",
       "      <td>3014</td>\n",
       "    </tr>\n",
       "    <tr>\n",
       "      <th>3</th>\n",
       "      <td>0</td>\n",
       "      <td>791765</td>\n",
       "      <td>76021</td>\n",
       "      <td>218384</td>\n",
       "      <td>86258</td>\n",
       "    </tr>\n",
       "    <tr>\n",
       "      <th>4</th>\n",
       "      <td>0</td>\n",
       "      <td>6442856</td>\n",
       "      <td>623025</td>\n",
       "      <td>1752420</td>\n",
       "      <td>660990</td>\n",
       "    </tr>\n",
       "    <tr>\n",
       "      <th>5</th>\n",
       "      <td>0</td>\n",
       "      <td>99495</td>\n",
       "      <td>9764</td>\n",
       "      <td>29354</td>\n",
       "      <td>15083</td>\n",
       "    </tr>\n",
       "    <tr>\n",
       "      <th>6</th>\n",
       "      <td>0</td>\n",
       "      <td>184106</td>\n",
       "      <td>17494</td>\n",
       "      <td>50219</td>\n",
       "      <td>17434</td>\n",
       "    </tr>\n",
       "    <tr>\n",
       "      <th>7</th>\n",
       "      <td>0</td>\n",
       "      <td>1709435</td>\n",
       "      <td>176427</td>\n",
       "      <td>498015</td>\n",
       "      <td>304246</td>\n",
       "    </tr>\n",
       "    <tr>\n",
       "      <th>8</th>\n",
       "      <td>0</td>\n",
       "      <td>66211</td>\n",
       "      <td>7024</td>\n",
       "      <td>17559</td>\n",
       "      <td>6922</td>\n",
       "    </tr>\n",
       "    <tr>\n",
       "      <th>9</th>\n",
       "      <td>0</td>\n",
       "      <td>598751</td>\n",
       "      <td>56303</td>\n",
       "      <td>158959</td>\n",
       "      <td>52614</td>\n",
       "    </tr>\n",
       "    <tr>\n",
       "      <th>10</th>\n",
       "      <td>0</td>\n",
       "      <td>22518</td>\n",
       "      <td>2164</td>\n",
       "      <td>6114</td>\n",
       "      <td>3777</td>\n",
       "    </tr>\n",
       "    <tr>\n",
       "      <th>11</th>\n",
       "      <td>0</td>\n",
       "      <td>297133</td>\n",
       "      <td>29838</td>\n",
       "      <td>82168</td>\n",
       "      <td>38433</td>\n",
       "    </tr>\n",
       "    <tr>\n",
       "      <th>12</th>\n",
       "      <td>0</td>\n",
       "      <td>507159</td>\n",
       "      <td>46556</td>\n",
       "      <td>127528</td>\n",
       "      <td>27684</td>\n",
       "    </tr>\n",
       "    <tr>\n",
       "      <th>13</th>\n",
       "      <td>0</td>\n",
       "      <td>1274250</td>\n",
       "      <td>122106</td>\n",
       "      <td>344651</td>\n",
       "      <td>134362</td>\n",
       "    </tr>\n",
       "    <tr>\n",
       "      <th>14</th>\n",
       "      <td>0</td>\n",
       "      <td>455357</td>\n",
       "      <td>44702</td>\n",
       "      <td>129875</td>\n",
       "      <td>73099</td>\n",
       "    </tr>\n",
       "    <tr>\n",
       "      <th>15</th>\n",
       "      <td>0</td>\n",
       "      <td>738344</td>\n",
       "      <td>68668</td>\n",
       "      <td>196170</td>\n",
       "      <td>64876</td>\n",
       "    </tr>\n",
       "    <tr>\n",
       "      <th>16</th>\n",
       "      <td>0</td>\n",
       "      <td>3651874</td>\n",
       "      <td>353749</td>\n",
       "      <td>995613</td>\n",
       "      <td>397511</td>\n",
       "    </tr>\n",
       "    <tr>\n",
       "      <th>17</th>\n",
       "      <td>0</td>\n",
       "      <td>486818</td>\n",
       "      <td>47645</td>\n",
       "      <td>133128</td>\n",
       "      <td>71075</td>\n",
       "    </tr>\n",
       "    <tr>\n",
       "      <th>18</th>\n",
       "      <td>317308</td>\n",
       "      <td>0</td>\n",
       "      <td>26681</td>\n",
       "      <td>79813</td>\n",
       "      <td>0</td>\n",
       "    </tr>\n",
       "    <tr>\n",
       "      <th>19</th>\n",
       "      <td>0</td>\n",
       "      <td>1722396</td>\n",
       "      <td>188488</td>\n",
       "      <td>532310</td>\n",
       "      <td>444356</td>\n",
       "    </tr>\n",
       "    <tr>\n",
       "      <th>20</th>\n",
       "      <td>0</td>\n",
       "      <td>701249</td>\n",
       "      <td>68500</td>\n",
       "      <td>196645</td>\n",
       "      <td>84855</td>\n",
       "    </tr>\n",
       "    <tr>\n",
       "      <th>21</th>\n",
       "      <td>0</td>\n",
       "      <td>46736</td>\n",
       "      <td>4305</td>\n",
       "      <td>12783</td>\n",
       "      <td>5321</td>\n",
       "    </tr>\n",
       "  </tbody>\n",
       "</table>\n",
       "</div>"
      ],
      "text/plain": [
       "profile        New Parent  Partnered Parent  Retired Adult  Single Adult  \\\n",
       "department_id                                                              \n",
       "1                       0           1502578         148333        408827   \n",
       "2                       0             24102           2291          6884   \n",
       "3                       0            791765          76021        218384   \n",
       "4                       0           6442856         623025       1752420   \n",
       "5                       0             99495           9764         29354   \n",
       "6                       0            184106          17494         50219   \n",
       "7                       0           1709435         176427        498015   \n",
       "8                       0             66211           7024         17559   \n",
       "9                       0            598751          56303        158959   \n",
       "10                      0             22518           2164          6114   \n",
       "11                      0            297133          29838         82168   \n",
       "12                      0            507159          46556        127528   \n",
       "13                      0           1274250         122106        344651   \n",
       "14                      0            455357          44702        129875   \n",
       "15                      0            738344          68668        196170   \n",
       "16                      0           3651874         353749        995613   \n",
       "17                      0            486818          47645        133128   \n",
       "18                 317308                 0          26681         79813   \n",
       "19                      0           1722396         188488        532310   \n",
       "20                      0            701249          68500        196645   \n",
       "21                      0             46736           4305         12783   \n",
       "\n",
       "profile        Single Parent  \n",
       "department_id                 \n",
       "1                     175005  \n",
       "2                       3014  \n",
       "3                      86258  \n",
       "4                     660990  \n",
       "5                      15083  \n",
       "6                      17434  \n",
       "7                     304246  \n",
       "8                       6922  \n",
       "9                      52614  \n",
       "10                      3777  \n",
       "11                     38433  \n",
       "12                     27684  \n",
       "13                    134362  \n",
       "14                     73099  \n",
       "15                     64876  \n",
       "16                    397511  \n",
       "17                     71075  \n",
       "18                         0  \n",
       "19                    444356  \n",
       "20                     84855  \n",
       "21                      5321  "
      ]
     },
     "execution_count": 44,
     "metadata": {},
     "output_type": "execute_result"
    }
   ],
   "source": [
    "# checking the prof by dep crosstab\n",
    "prof_by_dep"
   ]
  },
  {
   "cell_type": "code",
   "execution_count": 45,
   "id": "f78f9ec4",
   "metadata": {},
   "outputs": [
    {
     "data": {
      "image/png": "[encoded data removed]",
      "text/plain": [
       "<Figure size 640x480 with 1 Axes>"
      ]
     },
     "metadata": {},
     "output_type": "display_data"
    }
   ],
   "source": [
    "# visualizing the relationship between department and profile\n",
    "prof_by_dep_bar = prof_by_dep.plot.bar(rot = 0, color = ['navy', 'mediumslateblue', 'lightsteelblue', 'blue', 'royalblue'])"
   ]
  },
  {
   "cell_type": "code",
   "execution_count": 46,
   "id": "6f2796fa",
   "metadata": {},
   "outputs": [],
   "source": [
    "# exporting the profiles by department bar graph\n",
    "prof_by_dep_bar.figure.savefig(os.path.join(path, '04 Analysis', 'Visualizations', 'profiles_by_department.png'))"
   ]
  },
  {
   "cell_type": "markdown",
   "id": "d001cd02",
   "metadata": {},
   "source": [
    "Most purchases are from partnered parents by produce, eggs, and dairy. Single and retired adults follow the same spending habits. Single parents also make the most puchases in produce by purchase nearly equal amounts of snack as dairy and eggs. "
   ]
  },
  {
   "cell_type": "markdown",
   "id": "9cc6a732",
   "metadata": {},
   "source": [
    "## 8.3. Comparing Regional Profiles by Department "
   ]
  },
  {
   "cell_type": "markdown",
   "id": "585c4e77",
   "metadata": {},
   "source": [
    "### 8.3.1. Creating and checking regions"
   ]
  },
  {
   "cell_type": "code",
   "execution_count": 47,
   "id": "75633416",
   "metadata": {},
   "outputs": [],
   "source": [
    "# creating region 1 df\n",
    "df_reg_1 = df_main.loc[df_main['region'] == 1]"
   ]
  },
  {
   "cell_type": "code",
   "execution_count": 48,
   "id": "c369a3ae",
   "metadata": {},
   "outputs": [
    {
     "data": {
      "text/plain": [
       "1.0    5722736\n",
       "Name: region, dtype: int64"
      ]
     },
     "execution_count": 48,
     "metadata": {},
     "output_type": "execute_result"
    }
   ],
   "source": [
    "# checking region 1 df\n",
    "df_reg_1['region'].value_counts(dropna = False)"
   ]
  },
  {
   "cell_type": "code",
   "execution_count": 49,
   "id": "8d401723",
   "metadata": {},
   "outputs": [],
   "source": [
    "# creating region 2 df\n",
    "df_reg_2 = df_main.loc[df_main['region'] == 2]"
   ]
  },
  {
   "cell_type": "code",
   "execution_count": 50,
   "id": "7e1b948c",
   "metadata": {},
   "outputs": [
    {
     "data": {
      "text/plain": [
       "2.0    7597325\n",
       "Name: region, dtype: int64"
      ]
     },
     "execution_count": 50,
     "metadata": {},
     "output_type": "execute_result"
    }
   ],
   "source": [
    "# checking region 2 df\n",
    "df_reg_2['region'].value_counts(dropna = False)"
   ]
  },
  {
   "cell_type": "code",
   "execution_count": 51,
   "id": "83a2994a",
   "metadata": {},
   "outputs": [],
   "source": [
    "# creating region 3 df\n",
    "df_reg_3 = df_main.loc[df_main['region'] == 3]"
   ]
  },
  {
   "cell_type": "code",
   "execution_count": 52,
   "id": "d0aa20da",
   "metadata": {},
   "outputs": [
    {
     "data": {
      "text/plain": [
       "3.0    10791885\n",
       "Name: region, dtype: int64"
      ]
     },
     "execution_count": 52,
     "metadata": {},
     "output_type": "execute_result"
    }
   ],
   "source": [
    "# checking region 3 df\n",
    "df_reg_3['region'].value_counts(dropna = False)"
   ]
  },
  {
   "cell_type": "code",
   "execution_count": 53,
   "id": "0854bb4d",
   "metadata": {},
   "outputs": [],
   "source": [
    "# creating region 4 df\n",
    "df_reg_4 = df_main.loc[df_main['region'] == 4]"
   ]
  },
  {
   "cell_type": "code",
   "execution_count": 54,
   "id": "b1cdd27a",
   "metadata": {},
   "outputs": [
    {
     "data": {
      "text/plain": [
       "4.0    8292913\n",
       "Name: region, dtype: int64"
      ]
     },
     "execution_count": 54,
     "metadata": {},
     "output_type": "execute_result"
    }
   ],
   "source": [
    "# checking region 4 df\n",
    "df_reg_4['region'].value_counts(dropna = False)"
   ]
  },
  {
   "cell_type": "markdown",
   "id": "3ab2edc2",
   "metadata": {},
   "source": [
    "### 8.3.2. Creating cross tabs"
   ]
  },
  {
   "cell_type": "code",
   "execution_count": 55,
   "id": "3152f70e",
   "metadata": {},
   "outputs": [],
   "source": [
    "# crosstab for region 1\n",
    "reg_1_cross = pd.crosstab(df_reg_1['department_id'], df_reg_1['profile'])"
   ]
  },
  {
   "cell_type": "code",
   "execution_count": 56,
   "id": "42f5d7c3",
   "metadata": {},
   "outputs": [],
   "source": [
    "# crosstab for region 2\n",
    "reg_2_cross = pd.crosstab(df_reg_2['department_id'], df_reg_2['profile'])"
   ]
  },
  {
   "cell_type": "code",
   "execution_count": 57,
   "id": "6b3ad14e",
   "metadata": {},
   "outputs": [],
   "source": [
    "# crosstab for region 3\n",
    "reg_3_cross = pd.crosstab(df_reg_3['department_id'], df_reg_3['profile'])"
   ]
  },
  {
   "cell_type": "code",
   "execution_count": 58,
   "id": "7fad8bb2",
   "metadata": {},
   "outputs": [],
   "source": [
    "# crosstab for region 4\n",
    "reg_4_cross = pd.crosstab(df_reg_4['department_id'], df_reg_4['profile'])"
   ]
  },
  {
   "cell_type": "markdown",
   "id": "4f3729f4",
   "metadata": {},
   "source": [
    "### 8.3.3. Creating visualizations"
   ]
  },
  {
   "cell_type": "code",
   "execution_count": 59,
   "id": "35cd0db9",
   "metadata": {},
   "outputs": [
    {
     "data": {
      "image/png": "[encoded data removed]",
      "text/plain": [
       "<Figure size 640x480 with 1 Axes>"
      ]
     },
     "metadata": {},
     "output_type": "display_data"
    }
   ],
   "source": [
    "# bar graph of the region 1 profiles be department\n",
    "reg_1_prof_dep_bar = reg_1_cross.plot.bar(rot = 0, color = ['navy', 'mediumslateblue', 'lightsteelblue', 'blue', 'royalblue'])"
   ]
  },
  {
   "cell_type": "code",
   "execution_count": 60,
   "id": "65805707",
   "metadata": {},
   "outputs": [
    {
     "data": {
      "image/png": "[encoded data removed]",
      "text/plain": [
       "<Figure size 640x480 with 1 Axes>"
      ]
     },
     "metadata": {},
     "output_type": "display_data"
    }
   ],
   "source": [
    "# bar graph of the region 2 profiles be department\n",
    "reg_2_prof_dep_bar = reg_2_cross.plot.bar(rot = 0, color = ['navy', 'mediumslateblue', 'lightsteelblue', 'blue', 'royalblue'])"
   ]
  },
  {
   "cell_type": "code",
   "execution_count": 61,
   "id": "54339c16",
   "metadata": {},
   "outputs": [
    {
     "data": {
      "image/png": "[encoded data removed]",
      "text/plain": [
       "<Figure size 640x480 with 1 Axes>"
      ]
     },
     "metadata": {},
     "output_type": "display_data"
    }
   ],
   "source": [
    "# bar graph of the region 3 profiles be department\n",
    "reg_3_prof_dep_bar = reg_3_cross.plot.bar(rot = 0, color = ['navy', 'mediumslateblue', 'lightsteelblue', 'blue', 'royalblue'])"
   ]
  },
  {
   "cell_type": "code",
   "execution_count": 62,
   "id": "1e25cc66",
   "metadata": {},
   "outputs": [
    {
     "data": {
      "image/png": "[encoded data removed]",
      "text/plain": [
       "<Figure size 640x480 with 1 Axes>"
      ]
     },
     "metadata": {},
     "output_type": "display_data"
    }
   ],
   "source": [
    "# bar graph of the region 4 profiles be department\n",
    "reg_4_prof_dep_bar = reg_4_cross.plot.bar(rot = 0, color = ['navy', 'mediumslateblue', 'lightsteelblue', 'blue', 'royalblue'])"
   ]
  },
  {
   "cell_type": "code",
   "execution_count": 63,
   "id": "2c7583a7",
   "metadata": {},
   "outputs": [],
   "source": [
    "# exporting the region 1 bar chart\n",
    "reg_1_prof_dep_bar.figure.savefig(os.path.join(path, '04 Analysis', 'Visualizations', 'region_1_profiles_by_department.png'))"
   ]
  },
  {
   "cell_type": "code",
   "execution_count": 64,
   "id": "39d8b2d7",
   "metadata": {},
   "outputs": [],
   "source": [
    "# exporting the region 2 bar chart\n",
    "reg_2_prof_dep_bar.figure.savefig(os.path.join(path, '04 Analysis', 'Visualizations', 'region_2_profiles_by_department.png'))"
   ]
  },
  {
   "cell_type": "code",
   "execution_count": 65,
   "id": "96b974d4",
   "metadata": {},
   "outputs": [],
   "source": [
    "# exporting the region 3 bar chart\n",
    "reg_3_prof_dep_bar.figure.savefig(os.path.join(path, '04 Analysis', 'Visualizations', 'region_3_profiles_by_department.png'))"
   ]
  },
  {
   "cell_type": "code",
   "execution_count": 66,
   "id": "4ebe099e",
   "metadata": {},
   "outputs": [],
   "source": [
    "# exporting the region 4 bar chart\n",
    "reg_4_prof_dep_bar.figure.savefig(os.path.join(path, '04 Analysis', 'Visualizations', 'region_4_profiles_by_department.png'))"
   ]
  },
  {
   "cell_type": "markdown",
   "id": "ad08852a",
   "metadata": {},
   "source": [
    "The department trends previously mentioned are the same for each region."
   ]
  },
  {
   "cell_type": "markdown",
   "id": "79147814",
   "metadata": {},
   "source": [
    "# 9. Exporting Dataframe"
   ]
  },
  {
   "cell_type": "code",
   "execution_count": 67,
   "id": "759ab382",
   "metadata": {},
   "outputs": [],
   "source": [
    "df_main.to_pickle(os.path.join(path, '02 Data', 'Prepared Data', 'orders_products_customers_merged_final.pkl'))"
   ]
  },
  {
   "cell_type": "code",
   "execution_count": 71,
   "id": "cb724fc2",
   "metadata": {},
   "outputs": [
    {
     "data": {
      "text/plain": [
       "Low-range product     10126321\n",
       "Mid-range product       652638\n",
       "High-range product      417678\n",
       "Name: price_range_loc, dtype: int64"
      ]
     },
     "execution_count": 71,
     "metadata": {},
     "output_type": "execute_result"
    }
   ],
   "source": [
    "df_main['price_range_loc'].value_counts()"
   ]
  },
  {
   "cell_type": "code",
   "execution_count": null,
   "id": "344ba6c1",
   "metadata": {},
   "outputs": [],
   "source": []
  }
 ],
 "metadata": {
  "kernelspec": {
   "display_name": "Python 3 (ipykernel)",
   "language": "python",
   "name": "python3"
  },
  "language_info": {
   "codemirror_mode": {
    "name": "ipython",
    "version": 3
   },
   "file_extension": ".py",
   "mimetype": "text/x-python",
   "name": "python",
   "nbconvert_exporter": "python",
   "pygments_lexer": "ipython3",
   "version": "3.9.13"
  }
 },
 "nbformat": 4,
 "nbformat_minor": 5
}
