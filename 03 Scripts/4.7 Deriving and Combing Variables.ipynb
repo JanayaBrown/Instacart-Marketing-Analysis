{
 "cells": [
  {
   "cell_type": "markdown",
   "id": "8447ed9b",
   "metadata": {},
   "source": [
    "# 0. Contents"
   ]
  },
  {
   "cell_type": "markdown",
   "id": "544b64b3",
   "metadata": {},
   "source": [
    "1. importing libraries "
   ]
  },
  {
   "cell_type": "markdown",
   "id": "b5479417",
   "metadata": {},
   "source": [
    "2. Creating price_range columns"
   ]
  },
  {
   "cell_type": "markdown",
   "id": "0e092857",
   "metadata": {},
   "source": [
    "3. Creating price_range columns with different method"
   ]
  },
  {
   "cell_type": "markdown",
   "id": "b7e41592",
   "metadata": {},
   "source": [
    "4. Creating busiest day column"
   ]
  },
  {
   "cell_type": "markdown",
   "id": "ade49c4e",
   "metadata": {},
   "source": [
    "5. Creating busiest_days column"
   ]
  },
  {
   "cell_type": "markdown",
   "id": "fc2c7c19",
   "metadata": {},
   "source": [
    "6. Creating busiest time of day column"
   ]
  },
  {
   "cell_type": "markdown",
   "id": "162349cf",
   "metadata": {},
   "source": [
    "# 1. Importing Libraries and Data"
   ]
  },
  {
   "cell_type": "code",
   "execution_count": 1,
   "id": "ee015af9",
   "metadata": {},
   "outputs": [],
   "source": [
    "# importing libaraies\n",
    "import pandas as pd\n",
    "import numpy as np\n",
    "import os"
   ]
  },
  {
   "cell_type": "code",
   "execution_count": 2,
   "id": "cd051212",
   "metadata": {},
   "outputs": [],
   "source": [
    "# creating main path\n",
    "path = r'C:\\Users\\muffi\\OneDrive\\CareerFoundry\\Instacart Basket Analysis 2023'"
   ]
  },
  {
   "cell_type": "code",
   "execution_count": 3,
   "id": "26718269",
   "metadata": {},
   "outputs": [],
   "source": [
    "# importing ords and prods merged data\n",
    "df_ords_prods_merged = pd.read_pickle(os.path.join(path, '02 Data', 'Prepared Data', 'orders_products_merged.pkl'))"
   ]
  },
  {
   "cell_type": "code",
   "execution_count": 10,
   "id": "3739aea9",
   "metadata": {},
   "outputs": [],
   "source": [
    "# dropping the merge flag col\n",
    "df_ords_prods_merged = df_ords_prods_merged.drop(columns = ['_merge'])"
   ]
  },
  {
   "cell_type": "code",
   "execution_count": 12,
   "id": "3900d14a",
   "metadata": {},
   "outputs": [
    {
     "data": {
      "text/html": [
       "<div>\n",
       "<style scoped>\n",
       "    .dataframe tbody tr th:only-of-type {\n",
       "        vertical-align: middle;\n",
       "    }\n",
       "\n",
       "    .dataframe tbody tr th {\n",
       "        vertical-align: top;\n",
       "    }\n",
       "\n",
       "    .dataframe thead th {\n",
       "        text-align: right;\n",
       "    }\n",
       "</style>\n",
       "<table border=\"1\" class=\"dataframe\">\n",
       "  <thead>\n",
       "    <tr style=\"text-align: right;\">\n",
       "      <th></th>\n",
       "      <th>product_id</th>\n",
       "      <th>product_name</th>\n",
       "      <th>aisle_id</th>\n",
       "      <th>department_id</th>\n",
       "      <th>prices</th>\n",
       "      <th>order_id</th>\n",
       "      <th>user_id</th>\n",
       "      <th>order_number</th>\n",
       "      <th>orders_day_of_week</th>\n",
       "      <th>order_hour_of_day</th>\n",
       "      <th>days_since_prior_order</th>\n",
       "      <th>add_to_cart_order</th>\n",
       "      <th>reordered</th>\n",
       "    </tr>\n",
       "  </thead>\n",
       "  <tbody>\n",
       "    <tr>\n",
       "      <th>0</th>\n",
       "      <td>1</td>\n",
       "      <td>Chocolate Sandwich Cookies</td>\n",
       "      <td>61</td>\n",
       "      <td>19</td>\n",
       "      <td>5.8</td>\n",
       "      <td>3139998</td>\n",
       "      <td>138</td>\n",
       "      <td>28</td>\n",
       "      <td>6</td>\n",
       "      <td>11</td>\n",
       "      <td>3.0</td>\n",
       "      <td>5</td>\n",
       "      <td>0</td>\n",
       "    </tr>\n",
       "    <tr>\n",
       "      <th>1</th>\n",
       "      <td>1</td>\n",
       "      <td>Chocolate Sandwich Cookies</td>\n",
       "      <td>61</td>\n",
       "      <td>19</td>\n",
       "      <td>5.8</td>\n",
       "      <td>1977647</td>\n",
       "      <td>138</td>\n",
       "      <td>30</td>\n",
       "      <td>6</td>\n",
       "      <td>17</td>\n",
       "      <td>20.0</td>\n",
       "      <td>1</td>\n",
       "      <td>1</td>\n",
       "    </tr>\n",
       "    <tr>\n",
       "      <th>2</th>\n",
       "      <td>1</td>\n",
       "      <td>Chocolate Sandwich Cookies</td>\n",
       "      <td>61</td>\n",
       "      <td>19</td>\n",
       "      <td>5.8</td>\n",
       "      <td>389851</td>\n",
       "      <td>709</td>\n",
       "      <td>2</td>\n",
       "      <td>0</td>\n",
       "      <td>21</td>\n",
       "      <td>6.0</td>\n",
       "      <td>20</td>\n",
       "      <td>0</td>\n",
       "    </tr>\n",
       "    <tr>\n",
       "      <th>3</th>\n",
       "      <td>1</td>\n",
       "      <td>Chocolate Sandwich Cookies</td>\n",
       "      <td>61</td>\n",
       "      <td>19</td>\n",
       "      <td>5.8</td>\n",
       "      <td>652770</td>\n",
       "      <td>764</td>\n",
       "      <td>1</td>\n",
       "      <td>3</td>\n",
       "      <td>13</td>\n",
       "      <td>0.0</td>\n",
       "      <td>10</td>\n",
       "      <td>0</td>\n",
       "    </tr>\n",
       "    <tr>\n",
       "      <th>4</th>\n",
       "      <td>1</td>\n",
       "      <td>Chocolate Sandwich Cookies</td>\n",
       "      <td>61</td>\n",
       "      <td>19</td>\n",
       "      <td>5.8</td>\n",
       "      <td>1813452</td>\n",
       "      <td>764</td>\n",
       "      <td>3</td>\n",
       "      <td>4</td>\n",
       "      <td>17</td>\n",
       "      <td>9.0</td>\n",
       "      <td>11</td>\n",
       "      <td>1</td>\n",
       "    </tr>\n",
       "  </tbody>\n",
       "</table>\n",
       "</div>"
      ],
      "text/plain": [
       "   product_id                product_name  aisle_id  department_id  prices  \\\n",
       "0           1  Chocolate Sandwich Cookies        61             19     5.8   \n",
       "1           1  Chocolate Sandwich Cookies        61             19     5.8   \n",
       "2           1  Chocolate Sandwich Cookies        61             19     5.8   \n",
       "3           1  Chocolate Sandwich Cookies        61             19     5.8   \n",
       "4           1  Chocolate Sandwich Cookies        61             19     5.8   \n",
       "\n",
       "   order_id  user_id  order_number  orders_day_of_week  order_hour_of_day  \\\n",
       "0   3139998      138            28                   6                 11   \n",
       "1   1977647      138            30                   6                 17   \n",
       "2    389851      709             2                   0                 21   \n",
       "3    652770      764             1                   3                 13   \n",
       "4   1813452      764             3                   4                 17   \n",
       "\n",
       "   days_since_prior_order  add_to_cart_order  reordered  \n",
       "0                     3.0                  5          0  \n",
       "1                    20.0                  1          1  \n",
       "2                     6.0                 20          0  \n",
       "3                     0.0                 10          0  \n",
       "4                     9.0                 11          1  "
      ]
     },
     "execution_count": 12,
     "metadata": {},
     "output_type": "execute_result"
    }
   ],
   "source": [
    "# checking the importing df \n",
    "df_ords_prods_merged.head()"
   ]
  },
  {
   "cell_type": "markdown",
   "id": "b183d931",
   "metadata": {},
   "source": [
    "# 2. If-Statements with User-Defined Functions"
   ]
  },
  {
   "cell_type": "code",
   "execution_count": 14,
   "id": "7621bb38",
   "metadata": {},
   "outputs": [],
   "source": [
    "# creating a subset of data to work with\n",
    "df_sub = df_ords_prods_merged[:1000000]"
   ]
  },
  {
   "cell_type": "code",
   "execution_count": 21,
   "id": "ca2649ed",
   "metadata": {},
   "outputs": [],
   "source": [
    "# creating a function that aggregates products according to price\n",
    "# price <= $5 is low-range\n",
    "# $5 < price <= $15 is mid-range\n",
    "# $15 < price is high-range\n",
    "\n",
    "def price_label(row):\n",
    "    if row['prices'] <= 5:\n",
    "        return 'Low-range product'\n",
    "    elif (row['prices'] > 5) and (row['prices'] <= 15):\n",
    "        return 'Mid-range product'\n",
    "    elif row['prices'] > 15:\n",
    "        return 'High-range product'\n",
    "    else:\n",
    "        return 'Not enough data'"
   ]
  },
  {
   "cell_type": "code",
   "execution_count": 22,
   "id": "afcf4f22",
   "metadata": {},
   "outputs": [
    {
     "name": "stderr",
     "output_type": "stream",
     "text": [
      "C:\\Users\\muffi\\AppData\\Local\\Temp\\ipykernel_23220\\3148117953.py:2: SettingWithCopyWarning: \n",
      "A value is trying to be set on a copy of a slice from a DataFrame.\n",
      "Try using .loc[row_indexer,col_indexer] = value instead\n",
      "\n",
      "See the caveats in the documentation: https://pandas.pydata.org/pandas-docs/stable/user_guide/indexing.html#returning-a-view-versus-a-copy\n",
      "  df_sub['price_range'] = df_sub.apply(price_label, axis=1)\n"
     ]
    }
   ],
   "source": [
    "# creatind price_range col using the price_label function\n",
    "df_sub['price_range'] = df_sub.apply(price_label, axis=1)"
   ]
  },
  {
   "cell_type": "code",
   "execution_count": 23,
   "id": "51b85241",
   "metadata": {},
   "outputs": [
    {
     "data": {
      "text/plain": [
       "Mid-range product     652638\n",
       "Low-range product     338018\n",
       "High-range product      9344\n",
       "Name: price_range, dtype: int64"
      ]
     },
     "execution_count": 23,
     "metadata": {},
     "output_type": "execute_result"
    }
   ],
   "source": [
    "# aggregating the results of the price_range col\n",
    "df_sub['price_range'].value_counts()"
   ]
  },
  {
   "cell_type": "code",
   "execution_count": 24,
   "id": "27049ac4",
   "metadata": {},
   "outputs": [
    {
     "data": {
      "text/plain": [
       "24.5"
      ]
     },
     "execution_count": 24,
     "metadata": {},
     "output_type": "execute_result"
    }
   ],
   "source": [
    "# checking the max price \n",
    "df_sub['prices'].max()"
   ]
  },
  {
   "cell_type": "markdown",
   "id": "434fcb46",
   "metadata": {},
   "source": [
    "# 3. If-Statements with .loc() Function"
   ]
  },
  {
   "cell_type": "code",
   "execution_count": 28,
   "id": "e110e0ae",
   "metadata": {},
   "outputs": [],
   "source": [
    "# .loc() col for low-range products \n",
    "df_sub.loc[df_sub['prices'] <= 5, 'price_range_loc'] = 'Low-range product'"
   ]
  },
  {
   "cell_type": "code",
   "execution_count": 29,
   "id": "631e2be0",
   "metadata": {},
   "outputs": [],
   "source": [
    "# .loc() col for mid-range products \n",
    "df_sub.loc[(df_sub['prices'] > 5) & (df_sub['prices'] <= 15), 'price_range_loc'] = 'Mid-range product'"
   ]
  },
  {
   "cell_type": "code",
   "execution_count": 30,
   "id": "6866e3d6",
   "metadata": {},
   "outputs": [],
   "source": [
    "# .loc() col for high-range products \n",
    "df_sub.loc[df_sub['prices'] > 15, 'price_range_loc'] = 'High-range product'"
   ]
  },
  {
   "cell_type": "code",
   "execution_count": 31,
   "id": "59ccf60e",
   "metadata": {},
   "outputs": [
    {
     "data": {
      "text/plain": [
       "Mid-range product     652638\n",
       "Low-range product     338018\n",
       "High-range product      9344\n",
       "Name: price_range_loc, dtype: int64"
      ]
     },
     "execution_count": 31,
     "metadata": {},
     "output_type": "execute_result"
    }
   ],
   "source": [
    "df_sub['price_range_loc'].value_counts()"
   ]
  },
  {
   "cell_type": "markdown",
   "id": "bf6ffe22",
   "metadata": {},
   "source": [
    "Got the same results without using the function and much faster "
   ]
  },
  {
   "cell_type": "code",
   "execution_count": 33,
   "id": "15ef0517",
   "metadata": {},
   "outputs": [],
   "source": [
    "# .loc() col for low-range products for the whole df\n",
    "df_ords_prods_merged.loc[df_ords_prods_merged['prices'] <= 5, 'price_range_loc'] = 'Low-range product'"
   ]
  },
  {
   "cell_type": "code",
   "execution_count": 35,
   "id": "87dc4487",
   "metadata": {},
   "outputs": [],
   "source": [
    "# .loc() col for mid-range products for the whole df\n",
    "df_ords_prods_merged.loc[(df_sub['prices'] > 5) & (df_ords_prods_merged['prices'] <= 15), 'price_range_loc'] = 'Mid-range product'"
   ]
  },
  {
   "cell_type": "code",
   "execution_count": 36,
   "id": "9090bfa8",
   "metadata": {},
   "outputs": [],
   "source": [
    "# .loc() col for high-range products for the whole df\n",
    "df_ords_prods_merged.loc[df_ords_prods_merged['prices'] > 15, 'price_range_loc'] = 'High-range product'"
   ]
  },
  {
   "cell_type": "code",
   "execution_count": 38,
   "id": "93a47ad7",
   "metadata": {},
   "outputs": [
    {
     "data": {
      "text/plain": [
       "Low-range product     10126321\n",
       "Mid-range product       652638\n",
       "High-range product      417678\n",
       "Name: price_range_loc, dtype: int64"
      ]
     },
     "execution_count": 38,
     "metadata": {},
     "output_type": "execute_result"
    }
   ],
   "source": [
    "# checkign the price_range col for the whole df\n",
    "df_ords_prods_merged['price_range_loc'].value_counts()"
   ]
  },
  {
   "cell_type": "markdown",
   "id": "e6a09494",
   "metadata": {},
   "source": [
    "# 4. If-Statements with For-Loops"
   ]
  },
  {
   "cell_type": "code",
   "execution_count": 40,
   "id": "d1a49b9a",
   "metadata": {},
   "outputs": [
    {
     "data": {
      "text/plain": [
       "0    6204182\n",
       "1    5660230\n",
       "6    4496490\n",
       "2    4213830\n",
       "5    4205791\n",
       "3    3840534\n",
       "4    3783802\n",
       "Name: orders_day_of_week, dtype: int64"
      ]
     },
     "execution_count": 40,
     "metadata": {},
     "output_type": "execute_result"
    }
   ],
   "source": [
    "# frequency table of the orders each day of the week\n",
    "# the week starts at Saturday with 0\n",
    "df_ords_prods_merged['orders_day_of_week'].value_counts(dropna = False)"
   ]
  },
  {
   "cell_type": "code",
   "execution_count": 48,
   "id": "a36b58ad",
   "metadata": {},
   "outputs": [],
   "source": [
    "# creating a blank results table\n",
    "result = []\n",
    "# for-loop that goes through each cell in orers_day_of_week and records the results\n",
    "# Saturday (0) is the busiest day\n",
    "# Wedenesday (4) is the lest busy day\n",
    "# everything other number is regularly busy \n",
    "for value in df_ords_prods_merged['orders_day_of_week']:\n",
    "    if value == 0:\n",
    "        result.append('Busiest day')\n",
    "    elif value == 4:\n",
    "        result.append('Least busy')\n",
    "    else:\n",
    "        result.append('Regularly busy')"
   ]
  },
  {
   "cell_type": "code",
   "execution_count": 49,
   "id": "f23f7f98",
   "metadata": {},
   "outputs": [
    {
     "data": {
      "text/plain": [
       "['Regularly busy',\n",
       " 'Regularly busy',\n",
       " 'Busiest day',\n",
       " 'Regularly busy',\n",
       " 'Least busy',\n",
       " 'Regularly busy',\n",
       " 'Regularly busy',\n",
       " 'Regularly busy',\n",
       " 'Regularly busy',\n",
       " 'Regularly busy']"
      ]
     },
     "execution_count": 49,
     "metadata": {},
     "output_type": "execute_result"
    }
   ],
   "source": [
    "# checking the results list\n",
    "result[:10]"
   ]
  },
  {
   "cell_type": "code",
   "execution_count": 46,
   "id": "f5854c2f",
   "metadata": {},
   "outputs": [],
   "source": [
    "# combing the results list and the merged df\n",
    "df_ords_prods_merged['busiest day'] = result"
   ]
  },
  {
   "cell_type": "code",
   "execution_count": 47,
   "id": "9cf36ddf",
   "metadata": {},
   "outputs": [
    {
     "data": {
      "text/plain": [
       "Regularlly busy    22416875\n",
       "Busiest day         6204182\n",
       "Least busy          3783802\n",
       "Name: busiest day, dtype: int64"
      ]
     },
     "execution_count": 47,
     "metadata": {},
     "output_type": "execute_result"
    }
   ],
   "source": [
    "# frequency of the busist_day col \n",
    "df_ords_prods_merged['busiest day'].value_counts()"
   ]
  },
  {
   "cell_type": "markdown",
   "id": "e514d66a",
   "metadata": {},
   "source": [
    "The numbers match those of the previous frequency table"
   ]
  },
  {
   "cell_type": "markdown",
   "id": "a83e5541",
   "metadata": {},
   "source": [
    "# 5. \"Busiest days\" Column"
   ]
  },
  {
   "cell_type": "markdown",
   "id": "9afd5a19",
   "metadata": {},
   "source": [
    "Column aggregating the 2 busiest day, the 2 slowest days, and the rest of the days"
   ]
  },
  {
   "cell_type": "code",
   "execution_count": 51,
   "id": "63d252d9",
   "metadata": {},
   "outputs": [],
   "source": [
    "# creating a blank results table\n",
    "busy_results = []\n",
    "\n",
    "# Sat (0) and Sun (1) are the \"Busiest days\" \n",
    "# Wed (4) and Tue (3) are the \"Least busy\" \n",
    "# the rest are \"Regularly busy\"\n",
    "\n",
    "# for loop recording the busy levels\n",
    "for value in df_ords_prods_merged['orders_day_of_week']:\n",
    "    if (value == 0) or (value == 1):\n",
    "        busy_results.append('Busiest day')\n",
    "    elif (value == 4) or (value == 3):\n",
    "        busy_results.append('Least busy')\n",
    "    else:\n",
    "        busy_results.append('Regularly busy')"
   ]
  },
  {
   "cell_type": "code",
   "execution_count": 53,
   "id": "73df040b",
   "metadata": {},
   "outputs": [],
   "source": [
    "# merging df with reslts\n",
    "df_ords_prods_merged['busiest_days'] = busy_results"
   ]
  },
  {
   "cell_type": "code",
   "execution_count": 59,
   "id": "753318f7",
   "metadata": {},
   "outputs": [
    {
     "data": {
      "text/plain": [
       "Regularly busy    12916111\n",
       "Busiest day       11864412\n",
       "Least busy         7624336\n",
       "Name: busiest_days, dtype: int64"
      ]
     },
     "execution_count": 59,
     "metadata": {},
     "output_type": "execute_result"
    }
   ],
   "source": [
    "# checking the results with the freq table\n",
    "df_ords_prods_merged['busiest_days'].value_counts()"
   ]
  },
  {
   "cell_type": "markdown",
   "id": "bee1e11f",
   "metadata": {},
   "source": [
    "The values in the new columns match those found in the origina freqeuncy table."
   ]
  },
  {
   "cell_type": "markdown",
   "id": "98ac1f5f",
   "metadata": {},
   "source": [
    "# 6. Busiest Time of the Day"
   ]
  },
  {
   "cell_type": "markdown",
   "id": "8ea48d1c",
   "metadata": {},
   "source": [
    "Column aggregating th period of time with the most orders, average orders, and least orders"
   ]
  },
  {
   "cell_type": "markdown",
   "id": "eaecee93",
   "metadata": {},
   "source": [
    "I am assuming \"average\" means 1 standard deviation above or below the statistical average"
   ]
  },
  {
   "cell_type": "code",
   "execution_count": 75,
   "id": "215df9df",
   "metadata": {},
   "outputs": [],
   "source": [
    "# calculating avg order time \n",
    "avg_ords = df_ords_prods_merged['order_hour_of_day'].value_counts().mean()"
   ]
  },
  {
   "cell_type": "code",
   "execution_count": 84,
   "id": "f28b6fcb",
   "metadata": {},
   "outputs": [],
   "source": [
    "# calculating the order std\n",
    "stdv_ords = df_ords_prods_merged['order_hour_of_day'].value_counts().std()"
   ]
  },
  {
   "cell_type": "code",
   "execution_count": 111,
   "id": "0c62fb85",
   "metadata": {},
   "outputs": [
    {
     "data": {
      "text/plain": [
       "2428571.0387057555"
      ]
     },
     "execution_count": 111,
     "metadata": {},
     "output_type": "execute_result"
    }
   ],
   "source": [
    "# calculating the upper bounds for \"average\" orders\n",
    "upper_avg = avg_ords + stdv_ords\n",
    "# viewing the upper average\n",
    "upper_avg"
   ]
  },
  {
   "cell_type": "code",
   "execution_count": 112,
   "id": "681c43a2",
   "metadata": {},
   "outputs": [
    {
     "data": {
      "text/plain": [
       "271833.877960911"
      ]
     },
     "execution_count": 112,
     "metadata": {},
     "output_type": "execute_result"
    }
   ],
   "source": [
    "# calculating the lower bounds for \"average\" orders\n",
    "lower_avg = avg_ords - stdv_ords\n",
    "# viewing the lower average\n",
    "lower_avg"
   ]
  },
  {
   "cell_type": "code",
   "execution_count": 94,
   "id": "37c84344",
   "metadata": {},
   "outputs": [
    {
     "data": {
      "text/plain": [
       "10    2761760\n",
       "11    2736140\n",
       "14    2689136\n",
       "15    2662144\n",
       "13    2660954\n",
       "12    2618532\n",
       "16    2535202\n",
       "9     2454203\n",
       "17    2087654\n",
       "8     1718118\n",
       "18    1636502\n",
       "19    1258305\n",
       "20     976156\n",
       "7      891054\n",
       "21     795637\n",
       "22     634225\n",
       "23     402316\n",
       "6      290493\n",
       "0      218769\n",
       "1      115700\n",
       "5       87961\n",
       "2       69375\n",
       "4       53242\n",
       "3       51281\n",
       "Name: order_hour_of_day, dtype: int64"
      ]
     },
     "execution_count": 94,
     "metadata": {},
     "output_type": "execute_result"
    }
   ],
   "source": [
    "df_ords_prods_merged['order_hour_of_day'].value_counts()"
   ]
  },
  {
   "cell_type": "code",
   "execution_count": null,
   "id": "8e3c640e",
   "metadata": {},
   "outputs": [],
   "source": [
    "# 10, 11, 14, 15, 13, 12, 16 have the most orders \n",
    "# 0, 1, 5, 2, 4, and 3 have the fewest orders \n",
    "# the rest have average orders \n",
    "\n",
    "# creting the empty result list \n",
    "order_results = []\n",
    "\n",
    "# creating the results list \n",
    "for val in df_ords_prods_merged['order_hour_of_day']:\n",
    "    if (val >= 10) and (val <= 16):\n",
    "        order_results.append('Most orders')\n",
    "    elif (val >= 0) and (val <= 5):\n",
    "        order_results.append('Fewst orders')\n",
    "    else:\n",
    "        order_results.append('Average orders')"
   ]
  },
  {
   "cell_type": "code",
   "execution_count": 126,
   "id": "3eec83b5",
   "metadata": {},
   "outputs": [],
   "source": [
    "# merging the results to the main df\n",
    "df_ords_prods_merged['busiest_period_of_day'] = order_results"
   ]
  },
  {
   "cell_type": "code",
   "execution_count": 128,
   "id": "62004ebd",
   "metadata": {},
   "outputs": [
    {
     "data": {
      "text/plain": [
       "Most orders       18663868\n",
       "Average orders    13144663\n",
       "Fewst orders        596328\n",
       "Name: busiest_period_of_day, dtype: int64"
      ]
     },
     "execution_count": 128,
     "metadata": {},
     "output_type": "execute_result"
    }
   ],
   "source": [
    "# freq of busiest_period_of_da\n",
    "df_ords_prods_merged['busiest_period_of_day'].value_counts()"
   ]
  },
  {
   "cell_type": "markdown",
   "id": "fe1aa5b3",
   "metadata": {},
   "source": [
    "The values in the new fequency tble match those from the original one"
   ]
  },
  {
   "cell_type": "markdown",
   "id": "b9cfe208",
   "metadata": {},
   "source": [
    "# 7. Exporting Files"
   ]
  },
  {
   "cell_type": "code",
   "execution_count": 133,
   "id": "40f68dff",
   "metadata": {},
   "outputs": [],
   "source": [
    "df_ords_prods_merged.to_pickle(os.path.join(path, '02 Data', 'Prepared Data', 'orders_products_merged_v2.pkl'))"
   ]
  },
  {
   "cell_type": "code",
   "execution_count": null,
   "id": "2b2f4339",
   "metadata": {},
   "outputs": [],
   "source": []
  }
 ],
 "metadata": {
  "kernelspec": {
   "display_name": "Python 3 (ipykernel)",
   "language": "python",
   "name": "python3"
  },
  "language_info": {
   "codemirror_mode": {
    "name": "ipython",
    "version": 3
   },
   "file_extension": ".py",
   "mimetype": "text/x-python",
   "name": "python",
   "nbconvert_exporter": "python",
   "pygments_lexer": "ipython3",
   "version": "3.9.13"
  }
 },
 "nbformat": 4,
 "nbformat_minor": 5
}
