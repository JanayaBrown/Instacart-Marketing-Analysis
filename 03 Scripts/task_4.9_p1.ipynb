{
 "cells": [
  {
   "cell_type": "markdown",
   "id": "2acfd0b4",
   "metadata": {},
   "source": [
    "# 0. Contents"
   ]
  },
  {
   "cell_type": "markdown",
   "id": "581c0ef3",
   "metadata": {},
   "source": [
    "1. Customer dataframe data wrangling"
   ]
  },
  {
   "cell_type": "markdown",
   "id": "69927e98",
   "metadata": {},
   "source": [
    "2. Customer dataframe consistency check "
   ]
  },
  {
   "cell_type": "markdown",
   "id": "1717a277",
   "metadata": {},
   "source": [
    "3. Merging customer with orders/orders_products_prior/products dataframe "
   ]
  },
  {
   "cell_type": "markdown",
   "id": "c1b0b50c",
   "metadata": {},
   "source": [
    "# 1. Importing Libraries and Data"
   ]
  },
  {
   "cell_type": "code",
   "execution_count": 1,
   "id": "d2b525bf",
   "metadata": {},
   "outputs": [],
   "source": [
    "# importing libraries\n",
    "import pandas as pd\n",
    "import numpy as np\n",
    "import os\n",
    "import matplotlib.pyplot as plt\n",
    "import seaborn as sns\n",
    "import scipy"
   ]
  },
  {
   "cell_type": "code",
   "execution_count": 2,
   "id": "d2ee48df",
   "metadata": {},
   "outputs": [],
   "source": [
    "# creaing main path\n",
    "path = r'C:\\Users\\muffi\\OneDrive\\CareerFoundry\\Instacart Basket Analysis 2023'"
   ]
  },
  {
   "cell_type": "code",
   "execution_count": 3,
   "id": "cb6afd22",
   "metadata": {},
   "outputs": [],
   "source": [
    "# importing merged orders and products data\n",
    "df_ords_prods_merged = pd.read_pickle(os.path.join(path, '02 Data', 'Prepared Data', 'orders_products_merged_v3.pkl'))"
   ]
  },
  {
   "cell_type": "code",
   "execution_count": 4,
   "id": "787f9b03",
   "metadata": {},
   "outputs": [],
   "source": [
    "# importing customers datasets\n",
    "df_custs = pd.read_csv(os.path.join(path, '02 Data', 'Original Data', 'customers.csv'))"
   ]
  },
  {
   "cell_type": "code",
   "execution_count": null,
   "id": "d6ed94ff",
   "metadata": {},
   "outputs": [],
   "source": [
    "# inspecting the new df\n",
    "df_custs.info()"
   ]
  },
  {
   "cell_type": "code",
   "execution_count": null,
   "id": "f9fc154b",
   "metadata": {},
   "outputs": [],
   "source": [
    "# inspecting the data in the new df\n",
    "df_custs.head()"
   ]
  },
  {
   "cell_type": "markdown",
   "id": "db4e10e0",
   "metadata": {},
   "source": [
    "# 2. Data Wrangling"
   ]
  },
  {
   "cell_type": "code",
   "execution_count": 5,
   "id": "c181fcc3",
   "metadata": {},
   "outputs": [],
   "source": [
    "# remaning col headers\n",
    "df_custs.rename(columns = {'First Name': 'first_name', 'Surnam' : 'last_name', 'Gender' : 'sex', 'STATE': 'state', 'Age' : 'age', 'n_dependants' : 'number_of_dependents'}, inplace = True)"
   ]
  },
  {
   "cell_type": "code",
   "execution_count": null,
   "id": "01d16e31",
   "metadata": {},
   "outputs": [],
   "source": [
    "# checking new col headers\n",
    "df_custs.head()"
   ]
  },
  {
   "cell_type": "markdown",
   "id": "9f3cddd1",
   "metadata": {},
   "source": [
    "I do not see any columns that are ouright irrelevant to the analysis"
   ]
  },
  {
   "cell_type": "markdown",
   "id": "84830579",
   "metadata": {},
   "source": [
    "The data types appear correct"
   ]
  },
  {
   "cell_type": "markdown",
   "id": "eae850dc",
   "metadata": {},
   "source": [
    "None of the data needs to be transposed"
   ]
  },
  {
   "cell_type": "markdown",
   "id": "f33d7ce3",
   "metadata": {},
   "source": [
    "# 3. Consistency Checks"
   ]
  },
  {
   "cell_type": "markdown",
   "id": "d0340121",
   "metadata": {},
   "source": [
    "## 3.1. Mixed Data"
   ]
  },
  {
   "cell_type": "code",
   "execution_count": null,
   "id": "8b19c79c",
   "metadata": {},
   "outputs": [],
   "source": [
    "# checking for mixed data types\n",
    "\n",
    "for col in df_custs.columns.tolist():\n",
    "  weird = (df_custs[[col]].applymap(type) != df_custs[[col]].iloc[0].apply(type)).any(axis = 1)\n",
    "  if len (df_custs[weird]) > 0:\n",
    "    print (col)"
   ]
  },
  {
   "cell_type": "code",
   "execution_count": 6,
   "id": "241085aa",
   "metadata": {},
   "outputs": [],
   "source": [
    "# changing fist_name from mixed to string data type\n",
    "df_custs['first_name'] = df_custs['first_name'].astype('str')"
   ]
  },
  {
   "cell_type": "markdown",
   "id": "f73521c2",
   "metadata": {},
   "source": [
    "The mixed data had been tranformed to a string"
   ]
  },
  {
   "cell_type": "markdown",
   "id": "435350ed",
   "metadata": {},
   "source": [
    "## 3.2. Missing Data"
   ]
  },
  {
   "cell_type": "code",
   "execution_count": null,
   "id": "5821528d",
   "metadata": {},
   "outputs": [],
   "source": [
    "# checking for missing data\n",
    "df_custs.isnull().sum()"
   ]
  },
  {
   "cell_type": "markdown",
   "id": "38ae5c67",
   "metadata": {},
   "source": [
    "There is no missing data"
   ]
  },
  {
   "cell_type": "markdown",
   "id": "9241be03",
   "metadata": {},
   "source": [
    "## 3.3. Duplicates"
   ]
  },
  {
   "cell_type": "code",
   "execution_count": null,
   "id": "8a7a952a",
   "metadata": {},
   "outputs": [],
   "source": [
    "# creating a df of duplicated data\n",
    "df_custs_dups = df_custs[df_custs.duplicated()]"
   ]
  },
  {
   "cell_type": "code",
   "execution_count": null,
   "id": "5d432bcc",
   "metadata": {},
   "outputs": [],
   "source": [
    "# viewing duplicated data\n",
    "df_custs_dups"
   ]
  },
  {
   "cell_type": "markdown",
   "id": "2cd616bb",
   "metadata": {},
   "source": [
    "There is no duplicate data"
   ]
  },
  {
   "cell_type": "markdown",
   "id": "ef1ee46e",
   "metadata": {},
   "source": [
    "## 3.4. Final Check"
   ]
  },
  {
   "cell_type": "code",
   "execution_count": null,
   "id": "75795781",
   "metadata": {},
   "outputs": [],
   "source": [
    "# checking the df statistics\n",
    "df_custs.describe()"
   ]
  },
  {
   "cell_type": "markdown",
   "id": "9b922110",
   "metadata": {},
   "source": [
    "The statistical analysis of the datarfame did not raise any red flags"
   ]
  },
  {
   "cell_type": "markdown",
   "id": "7289ff43",
   "metadata": {},
   "source": [
    "# 4. Combing Data"
   ]
  },
  {
   "cell_type": "code",
   "execution_count": null,
   "id": "d61a859e",
   "metadata": {},
   "outputs": [],
   "source": [
    "# checking col info to prep for merge\n",
    "df_custs.info()"
   ]
  },
  {
   "cell_type": "code",
   "execution_count": null,
   "id": "9fd415f6",
   "metadata": {},
   "outputs": [],
   "source": [
    "# checking col info to prep for merge\n",
    "df_ords_prods_merged.info()"
   ]
  },
  {
   "cell_type": "markdown",
   "id": "d132bdfe",
   "metadata": {},
   "source": [
    "The primary key (user_id) has the same data type for both dataframes"
   ]
  },
  {
   "cell_type": "code",
   "execution_count": 7,
   "id": "03e6b03d",
   "metadata": {},
   "outputs": [],
   "source": [
    "# merging the orders and prodects df ith the customers df\n",
    "# using a inner join so the table is complete (only data that is included in both)\n",
    "df_ords_prods_custs = df_ords_prods_merged.merge(df_custs, on = 'user_id', indicator = True)"
   ]
  },
  {
   "cell_type": "code",
   "execution_count": null,
   "id": "0115f3fb",
   "metadata": {},
   "outputs": [],
   "source": [
    "# checking the merged cols\n",
    "df_ords_prods_custs.head()"
   ]
  },
  {
   "cell_type": "code",
   "execution_count": 8,
   "id": "940cf6c3",
   "metadata": {},
   "outputs": [
    {
     "data": {
      "text/plain": [
       "both          32404859\n",
       "left_only            0\n",
       "right_only           0\n",
       "Name: _merge, dtype: int64"
      ]
     },
     "execution_count": 8,
     "metadata": {},
     "output_type": "execute_result"
    }
   ],
   "source": [
    "# checking that the merge was complete\n",
    "df_ords_prods_custs['_merge'].value_counts()"
   ]
  },
  {
   "cell_type": "markdown",
   "id": "0ab1119b",
   "metadata": {},
   "source": [
    "The merge only contains users found in both dataframes"
   ]
  },
  {
   "cell_type": "markdown",
   "id": "30865430",
   "metadata": {},
   "source": [
    "# 5. Exporing Data"
   ]
  },
  {
   "cell_type": "code",
   "execution_count": 9,
   "id": "5bbe037c",
   "metadata": {},
   "outputs": [],
   "source": [
    "# exporting the merged df as a pickle file \n",
    "df_ords_prods_custs.to_pickle(os.path.join (path, '02 Data', 'Prepared Data', 'orders_products_all.pkl'))"
   ]
  },
  {
   "cell_type": "code",
   "execution_count": null,
   "id": "9d766e2a",
   "metadata": {},
   "outputs": [],
   "source": []
  }
 ],
 "metadata": {
  "kernelspec": {
   "display_name": "Python 3 (ipykernel)",
   "language": "python",
   "name": "python3"
  },
  "language_info": {
   "codemirror_mode": {
    "name": "ipython",
    "version": 3
   },
   "file_extension": ".py",
   "mimetype": "text/x-python",
   "name": "python",
   "nbconvert_exporter": "python",
   "pygments_lexer": "ipython3",
   "version": "3.9.13"
  }
 },
 "nbformat": 4,
 "nbformat_minor": 5
}
