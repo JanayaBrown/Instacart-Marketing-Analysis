{
 "cells": [
  {
   "cell_type": "markdown",
   "id": "a72f96eb",
   "metadata": {},
   "source": [
    "# 0. Contents"
   ]
  },
  {
   "cell_type": "markdown",
   "id": "8d798137",
   "metadata": {},
   "source": [
    "1. Departments average number of orders"
   ]
  },
  {
   "cell_type": "markdown",
   "id": "152dacbd",
   "metadata": {},
   "source": [
    "2. Creation or max order columns"
   ]
  },
  {
   "cell_type": "markdown",
   "id": "96aaff29",
   "metadata": {},
   "source": [
    "3. Creation of customer loyalty flag"
   ]
  },
  {
   "cell_type": "markdown",
   "id": "ed06792e",
   "metadata": {},
   "source": [
    "4. Customer habit by loyalty flag analysis"
   ]
  },
  {
   "cell_type": "markdown",
   "id": "13bac0ac",
   "metadata": {},
   "source": [
    "5. Creation od mean_price columns"
   ]
  },
  {
   "cell_type": "markdown",
   "id": "8468f0fd",
   "metadata": {},
   "source": [
    "6. Creation os spending flag"
   ]
  },
  {
   "cell_type": "markdown",
   "id": "f4baa462",
   "metadata": {},
   "source": [
    "7. Creation of med_order_freq column"
   ]
  },
  {
   "cell_type": "markdown",
   "id": "54c40660",
   "metadata": {},
   "source": [
    "8. Creation of customer frequency flag"
   ]
  },
  {
   "cell_type": "markdown",
   "id": "026fa7bd",
   "metadata": {},
   "source": [
    "# 1. Importing Libraries and Data"
   ]
  },
  {
   "cell_type": "code",
   "execution_count": 1,
   "id": "ef29093c",
   "metadata": {},
   "outputs": [],
   "source": [
    "# importing libraries\n",
    "import pandas as pd\n",
    "import numpy as np\n",
    "import os"
   ]
  },
  {
   "cell_type": "code",
   "execution_count": 2,
   "id": "ec8a4116",
   "metadata": {},
   "outputs": [],
   "source": [
    "# creating main path\n",
    "path = r'C:\\Users\\muffi\\OneDrive\\CareerFoundry\\Instacart Basket Analysis 2023'"
   ]
  },
  {
   "cell_type": "code",
   "execution_count": 3,
   "id": "44dd7495",
   "metadata": {},
   "outputs": [],
   "source": [
    "# importing merged orders and products dataset\n",
    "ords_prods_merged = pd.read_pickle(os.path.join(path, '02 Data', 'Prepared Data', 'orders_products_merged_v2.pkl'))"
   ]
  },
  {
   "cell_type": "markdown",
   "id": "85d1f1a6",
   "metadata": {},
   "source": [
    "# 2. Departments' Average Order Number"
   ]
  },
  {
   "cell_type": "code",
   "execution_count": 4,
   "id": "f530d136",
   "metadata": {},
   "outputs": [
    {
     "data": {
      "text/plain": [
       "department_id\n",
       "1     15.457838\n",
       "2     17.277920\n",
       "3     17.170395\n",
       "4     17.811403\n",
       "5     15.215751\n",
       "6     16.439806\n",
       "7     17.225802\n",
       "8     15.340650\n",
       "9     15.895474\n",
       "10    20.197148\n",
       "11    16.170638\n",
       "12    15.887671\n",
       "13    16.583536\n",
       "14    16.773669\n",
       "15    16.165037\n",
       "16    17.665606\n",
       "17    15.694469\n",
       "18    19.310397\n",
       "19    17.177343\n",
       "20    16.473447\n",
       "21    22.902379\n",
       "Name: order_number, dtype: float64"
      ]
     },
     "execution_count": 4,
     "metadata": {},
     "output_type": "execute_result"
    }
   ],
   "source": [
    "# calculating the average number of orders for each department\n",
    "ords_prods_merged.groupby('department_id')['order_number'].mean()"
   ]
  },
  {
   "cell_type": "markdown",
   "id": "ebd535b8",
   "metadata": {},
   "source": [
    "The averages of the population differ slight from those of the sample. In most cases the population has more orders on average than the sample suggested"
   ]
  },
  {
   "cell_type": "markdown",
   "id": "fec3d152",
   "metadata": {},
   "source": [
    "# 3. Customer Loyalty Flag"
   ]
  },
  {
   "cell_type": "code",
   "execution_count": 5,
   "id": "d4f771a7",
   "metadata": {},
   "outputs": [],
   "source": [
    "# creating a col of the total number of orders for a user\n",
    "# group by user\n",
    "# calculate the max order number with the tranform function\n",
    "# name the col max_order \n",
    "ords_prods_merged['max_order'] = ords_prods_merged.groupby(['user_id'])['order_number'].transform(np.max)"
   ]
  },
  {
   "cell_type": "code",
   "execution_count": 6,
   "id": "f07e985f",
   "metadata": {},
   "outputs": [
    {
     "data": {
      "text/html": [
       "<div>\n",
       "<style scoped>\n",
       "    .dataframe tbody tr th:only-of-type {\n",
       "        vertical-align: middle;\n",
       "    }\n",
       "\n",
       "    .dataframe tbody tr th {\n",
       "        vertical-align: top;\n",
       "    }\n",
       "\n",
       "    .dataframe thead th {\n",
       "        text-align: right;\n",
       "    }\n",
       "</style>\n",
       "<table border=\"1\" class=\"dataframe\">\n",
       "  <thead>\n",
       "    <tr style=\"text-align: right;\">\n",
       "      <th></th>\n",
       "      <th>user_id</th>\n",
       "      <th>max_order</th>\n",
       "    </tr>\n",
       "  </thead>\n",
       "  <tbody>\n",
       "    <tr>\n",
       "      <th>0</th>\n",
       "      <td>138</td>\n",
       "      <td>32</td>\n",
       "    </tr>\n",
       "    <tr>\n",
       "      <th>1</th>\n",
       "      <td>138</td>\n",
       "      <td>32</td>\n",
       "    </tr>\n",
       "    <tr>\n",
       "      <th>2</th>\n",
       "      <td>709</td>\n",
       "      <td>5</td>\n",
       "    </tr>\n",
       "    <tr>\n",
       "      <th>3</th>\n",
       "      <td>764</td>\n",
       "      <td>3</td>\n",
       "    </tr>\n",
       "    <tr>\n",
       "      <th>4</th>\n",
       "      <td>764</td>\n",
       "      <td>3</td>\n",
       "    </tr>\n",
       "  </tbody>\n",
       "</table>\n",
       "</div>"
      ],
      "text/plain": [
       "   user_id  max_order\n",
       "0      138         32\n",
       "1      138         32\n",
       "2      709          5\n",
       "3      764          3\n",
       "4      764          3"
      ]
     },
     "execution_count": 6,
     "metadata": {},
     "output_type": "execute_result"
    }
   ],
   "source": [
    "# checking the new col\n",
    "ords_prods_merged[['user_id','max_order']].head()"
   ]
  },
  {
   "cell_type": "code",
   "execution_count": 7,
   "id": "99ed239d",
   "metadata": {},
   "outputs": [],
   "source": [
    "# loyalty flag for \"Loyal customer\"\n",
    "# max_order > 40 \n",
    "ords_prods_merged.loc[ords_prods_merged['max_order'] > 40, 'loyalty_flag'] = 'Loyal Customer'"
   ]
  },
  {
   "cell_type": "code",
   "execution_count": 8,
   "id": "07cd8ead",
   "metadata": {},
   "outputs": [],
   "source": [
    "# loyalty flag for \"regular customer\"\n",
    "# 10 < max_order <= 40 \n",
    "ords_prods_merged.loc[(ords_prods_merged['max_order'] > 10) & (ords_prods_merged['max_order'] <= 40), 'loyalty_flag'] = 'Regular Customer'"
   ]
  },
  {
   "cell_type": "code",
   "execution_count": 9,
   "id": "e30a3aa6",
   "metadata": {},
   "outputs": [],
   "source": [
    "# loyalty flag for \"new customer\"\n",
    "# max_order >= 10 \n",
    "ords_prods_merged.loc[ords_prods_merged['max_order'] <= 10, 'loyalty_flag'] = 'New Customer'"
   ]
  },
  {
   "cell_type": "code",
   "execution_count": 10,
   "id": "570cd277",
   "metadata": {},
   "outputs": [
    {
     "data": {
      "text/plain": [
       "Regular Customer    15876776\n",
       "Loyal Customer      10284093\n",
       "New Customer         6243990\n",
       "Name: loyalty_flag, dtype: int64"
      ]
     },
     "execution_count": 10,
     "metadata": {},
     "output_type": "execute_result"
    }
   ],
   "source": [
    "# checking the loyalty flag\n",
    "ords_prods_merged['loyalty_flag'].value_counts(dropna = False)"
   ]
  },
  {
   "cell_type": "code",
   "execution_count": 11,
   "id": "3563c246",
   "metadata": {},
   "outputs": [
    {
     "data": {
      "text/plain": [
       "<pandas.core.groupby.generic.DataFrameGroupBy object at 0x0000023EA2A1F490>"
      ]
     },
     "execution_count": 11,
     "metadata": {},
     "output_type": "execute_result"
    }
   ],
   "source": [
    "# calculating basic statistics of each loyalty group\n",
    "# group by loyalty flag \n",
    "ords_prods_merged.groupby('loyalty_flag')"
   ]
  },
  {
   "cell_type": "markdown",
   "id": "b4071c14",
   "metadata": {},
   "source": [
    "# 4. Customer Habits"
   ]
  },
  {
   "cell_type": "code",
   "execution_count": 12,
   "id": "d410e4b4",
   "metadata": {},
   "outputs": [
    {
     "data": {
      "text/plain": [
       "loyalty_flag\n",
       "Loyal Customer      10.386336\n",
       "New Customer        13.294670\n",
       "Regular Customer    12.495717\n",
       "Name: prices, dtype: float64"
      ]
     },
     "execution_count": 12,
     "metadata": {},
     "output_type": "execute_result"
    }
   ],
   "source": [
    "# comparing spending habits of different customer types\n",
    "# group by loyalty_flag\n",
    "\n",
    "# average product price for each customer group\n",
    "ords_prods_merged.groupby('loyalty_flag')['prices'].mean()"
   ]
  },
  {
   "cell_type": "code",
   "execution_count": 13,
   "id": "ca344d23",
   "metadata": {},
   "outputs": [
    {
     "data": {
      "text/html": [
       "<div>\n",
       "<style scoped>\n",
       "    .dataframe tbody tr th:only-of-type {\n",
       "        vertical-align: middle;\n",
       "    }\n",
       "\n",
       "    .dataframe tbody tr th {\n",
       "        vertical-align: top;\n",
       "    }\n",
       "\n",
       "    .dataframe thead th {\n",
       "        text-align: right;\n",
       "    }\n",
       "</style>\n",
       "<table border=\"1\" class=\"dataframe\">\n",
       "  <thead>\n",
       "    <tr style=\"text-align: right;\">\n",
       "      <th></th>\n",
       "      <th>count</th>\n",
       "      <th>mean</th>\n",
       "      <th>std</th>\n",
       "      <th>min</th>\n",
       "      <th>25%</th>\n",
       "      <th>50%</th>\n",
       "      <th>75%</th>\n",
       "      <th>max</th>\n",
       "    </tr>\n",
       "    <tr>\n",
       "      <th>loyalty_flag</th>\n",
       "      <th></th>\n",
       "      <th></th>\n",
       "      <th></th>\n",
       "      <th></th>\n",
       "      <th></th>\n",
       "      <th></th>\n",
       "      <th></th>\n",
       "      <th></th>\n",
       "    </tr>\n",
       "  </thead>\n",
       "  <tbody>\n",
       "    <tr>\n",
       "      <th>Loyal Customer</th>\n",
       "      <td>10284093.0</td>\n",
       "      <td>10.386336</td>\n",
       "      <td>328.017787</td>\n",
       "      <td>1.0</td>\n",
       "      <td>4.2</td>\n",
       "      <td>7.4</td>\n",
       "      <td>11.2</td>\n",
       "      <td>99999.0</td>\n",
       "    </tr>\n",
       "    <tr>\n",
       "      <th>New Customer</th>\n",
       "      <td>6243990.0</td>\n",
       "      <td>13.294670</td>\n",
       "      <td>597.560299</td>\n",
       "      <td>1.0</td>\n",
       "      <td>4.2</td>\n",
       "      <td>7.4</td>\n",
       "      <td>11.3</td>\n",
       "      <td>99999.0</td>\n",
       "    </tr>\n",
       "    <tr>\n",
       "      <th>Regular Customer</th>\n",
       "      <td>15876776.0</td>\n",
       "      <td>12.495717</td>\n",
       "      <td>539.720919</td>\n",
       "      <td>1.0</td>\n",
       "      <td>4.2</td>\n",
       "      <td>7.4</td>\n",
       "      <td>11.3</td>\n",
       "      <td>99999.0</td>\n",
       "    </tr>\n",
       "  </tbody>\n",
       "</table>\n",
       "</div>"
      ],
      "text/plain": [
       "                       count       mean         std  min  25%  50%   75%  \\\n",
       "loyalty_flag                                                               \n",
       "Loyal Customer    10284093.0  10.386336  328.017787  1.0  4.2  7.4  11.2   \n",
       "New Customer       6243990.0  13.294670  597.560299  1.0  4.2  7.4  11.3   \n",
       "Regular Customer  15876776.0  12.495717  539.720919  1.0  4.2  7.4  11.3   \n",
       "\n",
       "                      max  \n",
       "loyalty_flag               \n",
       "Loyal Customer    99999.0  \n",
       "New Customer      99999.0  \n",
       "Regular Customer  99999.0  "
      ]
     },
     "execution_count": 13,
     "metadata": {},
     "output_type": "execute_result"
    }
   ],
   "source": [
    "# basic statistice for the product price of each customer group (mean should match mean calculated above)\n",
    "ords_prods_merged.groupby('loyalty_flag')['prices'].describe()"
   ]
  },
  {
   "cell_type": "markdown",
   "id": "f37ac335",
   "metadata": {},
   "source": [
    "The min, max, and percentiles are the samefor all three customer grouping (I wonder if this this the case because of the outrageously high max."
   ]
  },
  {
   "cell_type": "markdown",
   "id": "5c8e4f2c",
   "metadata": {},
   "source": [
    "New customers have the highest average product price following by regular customers then loyal customers. This could mean that new customer are more likely to buy more expensive things. It could also indicate that the more customers use the app, the more compforable they get with making ordinaly, inexpensive purchases rather than important big ticket items. "
   ]
  },
  {
   "cell_type": "markdown",
   "id": "ef01f314",
   "metadata": {},
   "source": [
    "# 5. Marketing Spending Flag"
   ]
  },
  {
   "cell_type": "code",
   "execution_count": 14,
   "id": "2acba817",
   "metadata": {},
   "outputs": [],
   "source": [
    "# user flag for average product price across all their purchases\n",
    "# group by user\n",
    "# looking at average product price \n",
    "# mean_price < 10 is \"Low Spender\"\n",
    "# mean_price >= 10 is \"High Spender\""
   ]
  },
  {
   "cell_type": "code",
   "execution_count": 15,
   "id": "398b16c8",
   "metadata": {},
   "outputs": [],
   "source": [
    "# creating a col of the users' average product price \n",
    "ords_prods_merged['mean_price'] = ords_prods_merged.groupby('user_id')['prices'].transform(np.mean)"
   ]
  },
  {
   "cell_type": "code",
   "execution_count": 16,
   "id": "1ac87f1e",
   "metadata": {},
   "outputs": [
    {
     "data": {
      "text/html": [
       "<div>\n",
       "<style scoped>\n",
       "    .dataframe tbody tr th:only-of-type {\n",
       "        vertical-align: middle;\n",
       "    }\n",
       "\n",
       "    .dataframe tbody tr th {\n",
       "        vertical-align: top;\n",
       "    }\n",
       "\n",
       "    .dataframe thead th {\n",
       "        text-align: right;\n",
       "    }\n",
       "</style>\n",
       "<table border=\"1\" class=\"dataframe\">\n",
       "  <thead>\n",
       "    <tr style=\"text-align: right;\">\n",
       "      <th></th>\n",
       "      <th>user_id</th>\n",
       "      <th>mean_price</th>\n",
       "      <th>max_order</th>\n",
       "    </tr>\n",
       "  </thead>\n",
       "  <tbody>\n",
       "    <tr>\n",
       "      <th>0</th>\n",
       "      <td>138</td>\n",
       "      <td>6.935811</td>\n",
       "      <td>32</td>\n",
       "    </tr>\n",
       "    <tr>\n",
       "      <th>1</th>\n",
       "      <td>138</td>\n",
       "      <td>6.935811</td>\n",
       "      <td>32</td>\n",
       "    </tr>\n",
       "    <tr>\n",
       "      <th>2</th>\n",
       "      <td>709</td>\n",
       "      <td>7.930208</td>\n",
       "      <td>5</td>\n",
       "    </tr>\n",
       "    <tr>\n",
       "      <th>3</th>\n",
       "      <td>764</td>\n",
       "      <td>4.972414</td>\n",
       "      <td>3</td>\n",
       "    </tr>\n",
       "    <tr>\n",
       "      <th>4</th>\n",
       "      <td>764</td>\n",
       "      <td>4.972414</td>\n",
       "      <td>3</td>\n",
       "    </tr>\n",
       "  </tbody>\n",
       "</table>\n",
       "</div>"
      ],
      "text/plain": [
       "   user_id  mean_price  max_order\n",
       "0      138    6.935811         32\n",
       "1      138    6.935811         32\n",
       "2      709    7.930208          5\n",
       "3      764    4.972414          3\n",
       "4      764    4.972414          3"
      ]
     },
     "execution_count": 16,
     "metadata": {},
     "output_type": "execute_result"
    }
   ],
   "source": [
    "# cheaking the mean_price col \n",
    "ords_prods_merged[['user_id','mean_price', 'max_order']].head()"
   ]
  },
  {
   "cell_type": "code",
   "execution_count": 17,
   "id": "39e45afd",
   "metadata": {},
   "outputs": [],
   "source": [
    "# creating Low Spender flag (mean_price < 10)\n",
    "ords_prods_merged.loc[ords_prods_merged['mean_price'] < 10, 'spending_flag'] = \"Low Spender\""
   ]
  },
  {
   "cell_type": "code",
   "execution_count": 18,
   "id": "b049aefd",
   "metadata": {},
   "outputs": [],
   "source": [
    "# creating High Spender flag (mean_price >= 10)\n",
    "ords_prods_merged.loc[ords_prods_merged['mean_price'] >= 10, 'spending_flag'] = \"High Spender\""
   ]
  },
  {
   "cell_type": "code",
   "execution_count": 19,
   "id": "92ef0781",
   "metadata": {},
   "outputs": [
    {
     "data": {
      "text/plain": [
       "Low Spender     31770614\n",
       "High Spender      634245\n",
       "Name: spending_flag, dtype: int64"
      ]
     },
     "execution_count": 19,
     "metadata": {},
     "output_type": "execute_result"
    }
   ],
   "source": [
    "ords_prods_merged['spending_flag'].value_counts(dropna = False)"
   ]
  },
  {
   "cell_type": "markdown",
   "id": "07083787",
   "metadata": {},
   "source": [
    "# 6. Customer Frequency Flag"
   ]
  },
  {
   "cell_type": "code",
   "execution_count": 20,
   "id": "bd43c447",
   "metadata": {},
   "outputs": [],
   "source": [
    "# ordering frequency tag \n",
    "# group by user_id\n",
    "# looking at days_since_prior_order\n",
    "# med_order_freq > 20 is \"Non-freqeunt Customer\"\n",
    "# 10 < med_order_freq <= 20 is \"Regular Customer\"\n",
    "# med_order_freq <= 10 is \"Freqeunt Customer\""
   ]
  },
  {
   "cell_type": "code",
   "execution_count": 21,
   "id": "1b9c1313",
   "metadata": {},
   "outputs": [],
   "source": [
    "# creating a col of a users' median order frequency \n",
    "ords_prods_merged['med_order_freq'] = ords_prods_merged.groupby('user_id')['days_since_prior_order'].transform(np.median)"
   ]
  },
  {
   "cell_type": "code",
   "execution_count": 22,
   "id": "0048faca",
   "metadata": {},
   "outputs": [
    {
     "data": {
      "text/html": [
       "<div>\n",
       "<style scoped>\n",
       "    .dataframe tbody tr th:only-of-type {\n",
       "        vertical-align: middle;\n",
       "    }\n",
       "\n",
       "    .dataframe tbody tr th {\n",
       "        vertical-align: top;\n",
       "    }\n",
       "\n",
       "    .dataframe thead th {\n",
       "        text-align: right;\n",
       "    }\n",
       "</style>\n",
       "<table border=\"1\" class=\"dataframe\">\n",
       "  <thead>\n",
       "    <tr style=\"text-align: right;\">\n",
       "      <th></th>\n",
       "      <th>user_id</th>\n",
       "      <th>med_order_freq</th>\n",
       "    </tr>\n",
       "  </thead>\n",
       "  <tbody>\n",
       "    <tr>\n",
       "      <th>0</th>\n",
       "      <td>138</td>\n",
       "      <td>8.0</td>\n",
       "    </tr>\n",
       "    <tr>\n",
       "      <th>1</th>\n",
       "      <td>138</td>\n",
       "      <td>8.0</td>\n",
       "    </tr>\n",
       "    <tr>\n",
       "      <th>2</th>\n",
       "      <td>709</td>\n",
       "      <td>6.0</td>\n",
       "    </tr>\n",
       "    <tr>\n",
       "      <th>3</th>\n",
       "      <td>764</td>\n",
       "      <td>9.0</td>\n",
       "    </tr>\n",
       "    <tr>\n",
       "      <th>4</th>\n",
       "      <td>764</td>\n",
       "      <td>9.0</td>\n",
       "    </tr>\n",
       "  </tbody>\n",
       "</table>\n",
       "</div>"
      ],
      "text/plain": [
       "   user_id  med_order_freq\n",
       "0      138             8.0\n",
       "1      138             8.0\n",
       "2      709             6.0\n",
       "3      764             9.0\n",
       "4      764             9.0"
      ]
     },
     "execution_count": 22,
     "metadata": {},
     "output_type": "execute_result"
    }
   ],
   "source": [
    "# cheacking the med_order_freq col\n",
    "ords_prods_merged[['user_id', 'med_order_freq']].head()"
   ]
  },
  {
   "cell_type": "code",
   "execution_count": 23,
   "id": "da24d0e8",
   "metadata": {},
   "outputs": [],
   "source": [
    "# creating freqeuncy flag for non-frequent customers\n",
    "ords_prods_merged.loc[ords_prods_merged['med_order_freq'] > 20, 'freq_flag'] = 'Non-freqeunt Customer'"
   ]
  },
  {
   "cell_type": "code",
   "execution_count": 24,
   "id": "d81912fc",
   "metadata": {},
   "outputs": [],
   "source": [
    "# creating freqeuncy flag for regular customers\n",
    "ords_prods_merged.loc[(ords_prods_merged['med_order_freq'] > 10) & (ords_prods_merged['med_order_freq'] <= 20), 'spending_flag'] = 'Regular Customer'"
   ]
  },
  {
   "cell_type": "code",
   "execution_count": 26,
   "id": "95ec749f",
   "metadata": {},
   "outputs": [],
   "source": [
    "# creating freqeuncy flag for frequent customers\n",
    "ords_prods_merged.loc[ords_prods_merged['med_order_freq'] <= 10, 'freq_flag'] = 'Freqeunt Customer'"
   ]
  },
  {
   "cell_type": "code",
   "execution_count": 27,
   "id": "4817bfbb",
   "metadata": {},
   "outputs": [
    {
     "data": {
      "text/plain": [
       "Freqeunt Customer        22796659\n",
       "NaN                       6921472\n",
       "Non-freqeunt Customer     2686728\n",
       "Name: freq_flag, dtype: int64"
      ]
     },
     "execution_count": 27,
     "metadata": {},
     "output_type": "execute_result"
    }
   ],
   "source": [
    "# checking the spending flag \n",
    "ords_prods_merged['freq_flag'].value_counts(dropna = False)"
   ]
  },
  {
   "cell_type": "code",
   "execution_count": 28,
   "id": "481e3fb9",
   "metadata": {},
   "outputs": [],
   "source": [
    "# marking the strange prices as missing\n",
    "ords_prods_merged.loc[ords_prods_merged['prices'] > 100, 'prices'] = np.nan"
   ]
  },
  {
   "cell_type": "markdown",
   "id": "97fb602d",
   "metadata": {},
   "source": [
    "# 7. Exporting Data"
   ]
  },
  {
   "cell_type": "code",
   "execution_count": 29,
   "id": "f82a6f04",
   "metadata": {},
   "outputs": [],
   "source": [
    "ords_prods_merged.to_pickle(os.path.join(path, '02 Data', 'Prepared Data', 'orders_products_merged_v3.pkl'))"
   ]
  },
  {
   "cell_type": "code",
   "execution_count": null,
   "id": "2b51a9e0",
   "metadata": {},
   "outputs": [],
   "source": []
  }
 ],
 "metadata": {
  "kernelspec": {
   "display_name": "Python 3 (ipykernel)",
   "language": "python",
   "name": "python3"
  },
  "language_info": {
   "codemirror_mode": {
    "name": "ipython",
    "version": 3
   },
   "file_extension": ".py",
   "mimetype": "text/x-python",
   "name": "python",
   "nbconvert_exporter": "python",
   "pygments_lexer": "ipython3",
   "version": "3.9.13"
  }
 },
 "nbformat": 4,
 "nbformat_minor": 5
}
