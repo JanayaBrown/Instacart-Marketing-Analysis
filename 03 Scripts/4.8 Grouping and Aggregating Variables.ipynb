{
 "cells": [
  {
   "cell_type": "markdown",
   "id": "3c0d606b",
   "metadata": {},
   "source": [
    "# 0. Contents"
   ]
  },
  {
   "cell_type": "markdown",
   "id": "cdece7fd",
   "metadata": {},
   "source": [
    "1. Average department orders"
   ]
  },
  {
   "cell_type": "markdown",
   "id": "798c3c64",
   "metadata": {},
   "source": [
    "2. Creating max_order columns"
   ]
  },
  {
   "cell_type": "markdown",
   "id": "f156738e",
   "metadata": {},
   "source": [
    "3. Creating loyalty_flag"
   ]
  },
  {
   "cell_type": "markdown",
   "id": "9400f7e2",
   "metadata": {},
   "source": [
    "# 1. Importing Libraries and Data"
   ]
  },
  {
   "cell_type": "code",
   "execution_count": 1,
   "id": "2229d283",
   "metadata": {},
   "outputs": [],
   "source": [
    "# importing libraries\n",
    "import pandas as pd\n",
    "import numpy as np\n",
    "import os"
   ]
  },
  {
   "cell_type": "code",
   "execution_count": 2,
   "id": "7953d660",
   "metadata": {},
   "outputs": [],
   "source": [
    "# creating main path\n",
    "path = r'C:\\Users\\muffi\\OneDrive\\CareerFoundry\\Instacart Basket Analysis 2023'"
   ]
  },
  {
   "cell_type": "code",
   "execution_count": 3,
   "id": "8e54ab2f",
   "metadata": {},
   "outputs": [],
   "source": [
    "# importing data\n",
    "ords_prods_merge = pd.read_pickle(os.path.join(path, '02 Data', 'Prepared Data', 'orders_products_merged_v2.pkl'))"
   ]
  },
  {
   "cell_type": "code",
   "execution_count": null,
   "id": "86d45d24",
   "metadata": {},
   "outputs": [],
   "source": [
    "# checking the imported df\n",
    "ords_prods_merge.head()"
   ]
  },
  {
   "cell_type": "code",
   "execution_count": 4,
   "id": "d24cdf80",
   "metadata": {},
   "outputs": [],
   "source": [
    "# creating a subset of the main df\n",
    "df = ords_prods_merge[:1000000]"
   ]
  },
  {
   "cell_type": "code",
   "execution_count": null,
   "id": "d7ba564c",
   "metadata": {},
   "outputs": [],
   "source": [
    "# checking sub df dimensions\n",
    "df.shape"
   ]
  },
  {
   "cell_type": "code",
   "execution_count": null,
   "id": "c13e13d2",
   "metadata": {},
   "outputs": [],
   "source": [
    "# checking sub df \n",
    "df.head()"
   ]
  },
  {
   "cell_type": "markdown",
   "id": "7cf3a3df",
   "metadata": {},
   "source": [
    "# 2. Grouping Data with pandas"
   ]
  },
  {
   "cell_type": "code",
   "execution_count": null,
   "id": "c3548a4d",
   "metadata": {},
   "outputs": [],
   "source": [
    "# .groupby() does things invisible to the coder eye\n",
    "# useless by itself\n",
    "df.groupby('product_name')"
   ]
  },
  {
   "cell_type": "markdown",
   "id": "1b3ed1ec",
   "metadata": {},
   "source": [
    "When using .groupby() always 1. split the data in groups based on some critera, 2. apply a func to each group separately, and 3. store the results somewhere"
   ]
  },
  {
   "cell_type": "markdown",
   "id": "2db0e374",
   "metadata": {},
   "source": [
    "# 3. Aggregating Data with agg()"
   ]
  },
  {
   "cell_type": "code",
   "execution_count": 5,
   "id": "4948b13f",
   "metadata": {},
   "outputs": [
    {
     "data": {
      "text/html": [
       "<div>\n",
       "<style scoped>\n",
       "    .dataframe tbody tr th:only-of-type {\n",
       "        vertical-align: middle;\n",
       "    }\n",
       "\n",
       "    .dataframe tbody tr th {\n",
       "        vertical-align: top;\n",
       "    }\n",
       "\n",
       "    .dataframe thead tr th {\n",
       "        text-align: left;\n",
       "    }\n",
       "\n",
       "    .dataframe thead tr:last-of-type th {\n",
       "        text-align: right;\n",
       "    }\n",
       "</style>\n",
       "<table border=\"1\" class=\"dataframe\">\n",
       "  <thead>\n",
       "    <tr>\n",
       "      <th></th>\n",
       "      <th>order_number</th>\n",
       "    </tr>\n",
       "    <tr>\n",
       "      <th></th>\n",
       "      <th>mean</th>\n",
       "    </tr>\n",
       "    <tr>\n",
       "      <th>department_id</th>\n",
       "      <th></th>\n",
       "    </tr>\n",
       "  </thead>\n",
       "  <tbody>\n",
       "    <tr>\n",
       "      <th>1</th>\n",
       "      <td>15.577493</td>\n",
       "    </tr>\n",
       "    <tr>\n",
       "      <th>2</th>\n",
       "      <td>17.320781</td>\n",
       "    </tr>\n",
       "    <tr>\n",
       "      <th>3</th>\n",
       "      <td>16.084944</td>\n",
       "    </tr>\n",
       "    <tr>\n",
       "      <th>4</th>\n",
       "      <td>17.530458</td>\n",
       "    </tr>\n",
       "    <tr>\n",
       "      <th>5</th>\n",
       "      <td>14.763075</td>\n",
       "    </tr>\n",
       "    <tr>\n",
       "      <th>6</th>\n",
       "      <td>16.658449</td>\n",
       "    </tr>\n",
       "    <tr>\n",
       "      <th>7</th>\n",
       "      <td>17.031590</td>\n",
       "    </tr>\n",
       "    <tr>\n",
       "      <th>8</th>\n",
       "      <td>15.076662</td>\n",
       "    </tr>\n",
       "    <tr>\n",
       "      <th>9</th>\n",
       "      <td>15.447580</td>\n",
       "    </tr>\n",
       "    <tr>\n",
       "      <th>10</th>\n",
       "      <td>18.681852</td>\n",
       "    </tr>\n",
       "    <tr>\n",
       "      <th>11</th>\n",
       "      <td>15.447411</td>\n",
       "    </tr>\n",
       "    <tr>\n",
       "      <th>12</th>\n",
       "      <td>14.327957</td>\n",
       "    </tr>\n",
       "    <tr>\n",
       "      <th>13</th>\n",
       "      <td>16.548642</td>\n",
       "    </tr>\n",
       "    <tr>\n",
       "      <th>14</th>\n",
       "      <td>16.960241</td>\n",
       "    </tr>\n",
       "    <tr>\n",
       "      <th>15</th>\n",
       "      <td>16.121948</td>\n",
       "    </tr>\n",
       "    <tr>\n",
       "      <th>16</th>\n",
       "      <td>17.803851</td>\n",
       "    </tr>\n",
       "    <tr>\n",
       "      <th>17</th>\n",
       "      <td>15.593633</td>\n",
       "    </tr>\n",
       "    <tr>\n",
       "      <th>18</th>\n",
       "      <td>19.674252</td>\n",
       "    </tr>\n",
       "    <tr>\n",
       "      <th>19</th>\n",
       "      <td>16.899756</td>\n",
       "    </tr>\n",
       "    <tr>\n",
       "      <th>20</th>\n",
       "      <td>16.255442</td>\n",
       "    </tr>\n",
       "    <tr>\n",
       "      <th>21</th>\n",
       "      <td>25.535479</td>\n",
       "    </tr>\n",
       "  </tbody>\n",
       "</table>\n",
       "</div>"
      ],
      "text/plain": [
       "              order_number\n",
       "                      mean\n",
       "department_id             \n",
       "1                15.577493\n",
       "2                17.320781\n",
       "3                16.084944\n",
       "4                17.530458\n",
       "5                14.763075\n",
       "6                16.658449\n",
       "7                17.031590\n",
       "8                15.076662\n",
       "9                15.447580\n",
       "10               18.681852\n",
       "11               15.447411\n",
       "12               14.327957\n",
       "13               16.548642\n",
       "14               16.960241\n",
       "15               16.121948\n",
       "16               17.803851\n",
       "17               15.593633\n",
       "18               19.674252\n",
       "19               16.899756\n",
       "20               16.255442\n",
       "21               25.535479"
      ]
     },
     "execution_count": 5,
     "metadata": {},
     "output_type": "execute_result"
    }
   ],
   "source": [
    "# calculating avg number of orders per department\n",
    "# .groupby() creates pandas object for the department ids (like a pivot table )\n",
    "# agg() func returns the mean of the given col (our col is order number)\n",
    "\n",
    "df.groupby('department_id').agg({'order_number':['mean']})\n",
    "# could also use df.groupby('department_id')['order_number'].mean() to do the same thing\n",
    "# same with df.groupby('department_id').order_number.mean(), but it makes your code looser"
   ]
  },
  {
   "cell_type": "code",
   "execution_count": null,
   "id": "a9a958c7",
   "metadata": {},
   "outputs": [],
   "source": [
    "# calculating the mean, min, and max order numbers by department \n",
    "df.groupby('department_id').agg({'order_number':['mean', 'min', 'max']})"
   ]
  },
  {
   "cell_type": "markdown",
   "id": "efc31869",
   "metadata": {},
   "source": [
    "# 4. Aggregating Data with transform()"
   ]
  },
  {
   "cell_type": "markdown",
   "id": "5d698e7b",
   "metadata": {},
   "source": [
    "If the max orders a user has is over 40 they are a \"Loyal customer\""
   ]
  },
  {
   "cell_type": "markdown",
   "id": "ec5625c9",
   "metadata": {},
   "source": [
    "If the 10 < max orders <= 40 then \"Regular customer\""
   ]
  },
  {
   "cell_type": "markdown",
   "id": "d8c426f5",
   "metadata": {},
   "source": [
    "If max orders <= 10 then \"New customer\""
   ]
  },
  {
   "cell_type": "code",
   "execution_count": null,
   "id": "f1f53b52",
   "metadata": {},
   "outputs": [],
   "source": [
    "# adding a user max_order col \n",
    "ords_prods_merge['max_order'] = ords_prods_merge.groupby(['user_id'])['order_number'].transform(np.max)"
   ]
  },
  {
   "cell_type": "code",
   "execution_count": null,
   "id": "8169a922",
   "metadata": {},
   "outputs": [],
   "source": [
    "# checking the new col\n",
    "ords_prods_merge.head()"
   ]
  },
  {
   "cell_type": "code",
   "execution_count": null,
   "id": "7844d6e1",
   "metadata": {},
   "outputs": [],
   "source": [
    "# checking more rows\n",
    "ords_prods_merge.head(100)\n",
    "# pd.options.display.max_rows = None to change the number of rows viewable "
   ]
  },
  {
   "cell_type": "markdown",
   "id": "f816cdd3",
   "metadata": {},
   "source": [
    "# 5. Deriving Columns with loc()"
   ]
  },
  {
   "cell_type": "code",
   "execution_count": null,
   "id": "40190f31",
   "metadata": {},
   "outputs": [],
   "source": [
    "# creating the flag for loyal customers (max_order > 40)\n",
    "ords_prods_merge.loc[ords_prods_merge['max_order'] > 40, 'loyalty_flag'] = 'Loyal customer'"
   ]
  },
  {
   "cell_type": "code",
   "execution_count": null,
   "id": "0fb4d5be",
   "metadata": {},
   "outputs": [],
   "source": [
    "# creating the flag for regular customers (10 < max_order <= 40)\n",
    "ords_prods_merge.loc[(ords_prods_merge['max_order'] <= 40) & (ords_prods_merge['max_order']> 10), 'loyalty_flag'] = 'Regular customer'"
   ]
  },
  {
   "cell_type": "code",
   "execution_count": null,
   "id": "61f03d28",
   "metadata": {},
   "outputs": [],
   "source": [
    "# creating the flag for new customers (max_order <= 10)\n",
    "ords_prods_merge.loc[ords_prods_merge['max_order'] <= 10, 'loyalty_flag'] = 'New customer'"
   ]
  },
  {
   "cell_type": "code",
   "execution_count": null,
   "id": "d4596bcf",
   "metadata": {},
   "outputs": [],
   "source": [
    "ords_prods_merge['loyalty_flag'].value_counts(dropna = False)"
   ]
  },
  {
   "cell_type": "code",
   "execution_count": null,
   "id": "c639d063",
   "metadata": {},
   "outputs": [],
   "source": [
    "# checking the new col\n",
    "ords_prods_merge[['user_id', 'loyalty_flag','order_number']].head(60)"
   ]
  },
  {
   "cell_type": "code",
   "execution_count": null,
   "id": "72b7ec3d",
   "metadata": {},
   "outputs": [],
   "source": []
  }
 ],
 "metadata": {
  "kernelspec": {
   "display_name": "Python 3 (ipykernel)",
   "language": "python",
   "name": "python3"
  },
  "language_info": {
   "codemirror_mode": {
    "name": "ipython",
    "version": 3
   },
   "file_extension": ".py",
   "mimetype": "text/x-python",
   "name": "python",
   "nbconvert_exporter": "python",
   "pygments_lexer": "ipython3",
   "version": "3.9.13"
  }
 },
 "nbformat": 4,
 "nbformat_minor": 5
}
